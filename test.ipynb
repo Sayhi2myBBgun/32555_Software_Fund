{
 "cells": [
  {
   "cell_type": "code",
   "execution_count": 31,
   "id": "352b9d61-4432-4902-8bb8-7e88f852996e",
   "metadata": {},
   "outputs": [],
   "source": [
    "## Update Database class\n",
    "import os \n",
    "import json\n",
    "\n",
    "class DataBase():\n",
    "    def __init__(self):\n",
    "        self.filename = \"students.data\"\n",
    "\n",
    "    def check_file(self): # Check if file exists, if not, creates it\n",
    "        if not os.path.exists(self.filename):\n",
    "            with open(self.filename, 'w') as fileHandler:\n",
    "                # Optionally write initial content to the file\n",
    "                fileHandler.write(\"\")  # Writing an empty string to create the file\n",
    "                print(\"File did not exist! Created in directory \" + os.getcwd())\n",
    "        else:\n",
    "            print(\"Folder already exists\")\n",
    "\n",
    "    def write(self, txt): # Write objects to the file \"students.data\"\n",
    "        with open('students.data', 'w') as fileHandler:\n",
    "            json.dump(txt, fileHandler, indent = 2)\n",
    "        fileHandler.close()\n",
    "\n",
    "    def read(self): # Read objects from the file \"students.data\"\n",
    "        with open(self.filename, \"r\") as fileHandler:\n",
    "            json_obj = json.load(fileHandler)\n",
    "            print(json.dumps(json_obj, indent = 4))\n",
    "            fileHandler.close()\n",
    "\n",
    "    def clear_file(self): # Clear the objects from the file \"students.data\"\n",
    "        try:\n",
    "            with open(self.filename, 'w') as fileHandler:\n",
    "                pass  # Opening the file in 'w' mode will clear everything\n",
    "            print(f\"All contents of '{self.filename}' have been deleted.\")\n",
    "        except FileNotFoundError:\n",
    "            print(f\"File '{self.filename}' does not exist.\")\n",
    "        except Exception as e:\n",
    "            print(f\"An error occurred while clearing the file: {e}\")"
   ]
  },
  {
   "cell_type": "code",
   "execution_count": 32,
   "id": "569f892c-ee3a-498c-9ec2-1737386d128c",
   "metadata": {},
   "outputs": [],
   "source": [
    "db = DataBase()"
   ]
  },
  {
   "cell_type": "code",
   "execution_count": 33,
   "id": "d7dc711a-a968-4be7-85f5-500b32efef98",
   "metadata": {},
   "outputs": [
    {
     "name": "stdout",
     "output_type": "stream",
     "text": [
      "Folder already exists\n"
     ]
    }
   ],
   "source": [
    "db.check_file()"
   ]
  },
  {
   "cell_type": "code",
   "execution_count": 34,
   "id": "a1924e2a-e944-42a8-806b-7958e014e988",
   "metadata": {},
   "outputs": [],
   "source": [
    "data = {}"
   ]
  },
  {
   "cell_type": "code",
   "execution_count": 35,
   "id": "fce5310d-61f7-4eda-92bb-dbc4188d7662",
   "metadata": {},
   "outputs": [],
   "source": [
    "data['deez'] = 'nuts'"
   ]
  },
  {
   "cell_type": "code",
   "execution_count": 37,
   "id": "36da657d-8254-4b99-8970-f13b45a3b5fd",
   "metadata": {},
   "outputs": [],
   "source": [
    "db.write(data)"
   ]
  },
  {
   "cell_type": "code",
   "execution_count": 38,
   "id": "b16d9ec3-34bd-40c9-8ab7-70529000a5ee",
   "metadata": {},
   "outputs": [
    {
     "name": "stdout",
     "output_type": "stream",
     "text": [
      "{\n",
      "    \"deez\": \"nuts\"\n",
      "}\n"
     ]
    }
   ],
   "source": [
    "db.read()"
   ]
  },
  {
   "cell_type": "code",
   "execution_count": 39,
   "id": "8456aab7-d740-43a4-b3f5-aa86dd0c151c",
   "metadata": {},
   "outputs": [
    {
     "name": "stdout",
     "output_type": "stream",
     "text": [
      "All contents of 'students.data' have been deleted.\n"
     ]
    }
   ],
   "source": [
    "db.clear_file()"
   ]
  },
  {
   "cell_type": "code",
   "execution_count": null,
   "id": "45f3d02f-3eae-4258-bb45-18707c8e6967",
   "metadata": {},
   "outputs": [],
   "source": []
  }
 ],
 "metadata": {
  "kernelspec": {
   "display_name": "Python 3 (ipykernel)",
   "language": "python",
   "name": "python3"
  },
  "language_info": {
   "codemirror_mode": {
    "name": "ipython",
    "version": 3
   },
   "file_extension": ".py",
   "mimetype": "text/x-python",
   "name": "python",
   "nbconvert_exporter": "python",
   "pygments_lexer": "ipython3",
   "version": "3.9.12"
  }
 },
 "nbformat": 4,
 "nbformat_minor": 5
}

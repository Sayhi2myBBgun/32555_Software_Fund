{
 "cells": [
  {
   "cell_type": "code",
   "execution_count": null,
   "id": "94a69061-ae61-4943-bdbd-0a340713b1d5",
   "metadata": {},
   "outputs": [
    {
     "name": "stdout",
     "output_type": "stream",
     "text": [
      "Checking if 'students.data' exists...\n",
      "File 'alen.jones@university.com' created.\n",
      "Checking if 'students.data' exists...\n",
      "File 'student.data'exists.\n",
      "Error: File contains invalid JSON.\n",
      "File is empty.\n",
      "\u001b[96mStudent Course Menu (c/e/r/s/x):\u001b[0m\n"
     ]
    }
   ],
   "source": [
    "# Student Course System Criteria # \n",
    "\n",
    "# Tracking Subject enrolment is tracked - DOUBLE CHECK THIS\n",
    "# Error Handling Exceptions, errors, logical scenarios are handled - DOUBLE CHECK THIS \n",
    "import random\n",
    "import os\n",
    "import json\n",
    "# import DataBase\n",
    "\n",
    "class SubjectClass():\n",
    "\n",
    "    def Gen_SubjectID(self):\n",
    "        \n",
    "        number = random.randint(1,999)\n",
    "        formatted_id = f\"{number:03d}\"\n",
    "        return(formatted_id)\n",
    "    \n",
    "    def Gen_Results(self):\n",
    "        # Generate Marks + Grade in same function\n",
    "        mark = random.randint(25,100)\n",
    "        if mark <= 49:\n",
    "            grade = 'F'\n",
    "        elif mark >= 50 and mark <= 64:\n",
    "            grade = 'P'\n",
    "        elif mark >= 65 and mark <= 74:\n",
    "            grade = 'C'\n",
    "        elif mark >= 75 and mark <= 84:\n",
    "            grade = 'D'\n",
    "        elif mark > 85:\n",
    "            grade = 'HD'\n",
    "        \n",
    "        return mark, grade\n",
    "\n",
    "class DataBase:\n",
    "    def __init__(self, filename=\"student.data\"):\n",
    "        self.filename = filename\n",
    "        self.check_and_create_file()\n",
    "\n",
    "    def check_and_create_file(self):\n",
    "        print(\"Checking if 'students.data' exists...\")\n",
    "        if not os.path.exists(self.filename):\n",
    "            with open(self.filename, 'w') as file:\n",
    "                file.write(\"\")  # Create an empty file\n",
    "            print(f\"File '{self.filename}' created.\")\n",
    "        else:\n",
    "            print(f\"File '{self.filename}'exists.\")\n",
    "\n",
    "    def write(self, txt):\n",
    "        with open(self.filename, 'w') as fileHandler:\n",
    "            json.dump(txt, fileHandler, indent=2)\n",
    "        # print(f\"Data written to {self.filename}\")\n",
    "\n",
    "    def read(self):\n",
    "        try:\n",
    "            with open(self.filename, 'r') as fileHandler:\n",
    "                if os.stat(self.filename).st_size == 0:  # Check if the file is empty\n",
    "                    print(\"File is empty.\")\n",
    "                    return None\n",
    "                json_obj = json.load(fileHandler)\n",
    "                # print(json.dumps(json_obj, indent=4))\n",
    "                return json_obj\n",
    "        except json.JSONDecodeError:\n",
    "            print(\"Error: File contains invalid JSON.\")\n",
    "        except FileNotFoundError:\n",
    "            print(f\"File '{self.filename}' does not exist.\")\n",
    "        except Exception as e:\n",
    "            print(f\"An error occurred: {e}\")\n",
    "\n",
    "class Backend():\n",
    "    \"Needs 'db' DataBase object to perform get_count function\"\n",
    "\n",
    "    def __init__(self, email):\n",
    "        # self.db = DataBase()\n",
    "        self.filename = 'students.data'\n",
    "        self.db = DataBase()\n",
    "        self.students = self.db.read()\n",
    "        self.student = email\n",
    "        # self.student_file = students['students'][email]\n",
    "\n",
    "    @staticmethod\n",
    "    def print_col(text, colour):\n",
    "        colours = {\n",
    "            'blue': '\\033[96m',   # Blue\n",
    "            'yellow': '\\033[93m', # Yellow\n",
    "            'red': '\\033[91m',    # Red\n",
    "            'end': '\\033[0m',\n",
    "        }\n",
    "        \n",
    "        colour_code = colours.get(colour, colours['end'])\n",
    "        print(f\"{colour_code}{text}{colours['end']}\")\n",
    "\n",
    "    @staticmethod\n",
    "    def standard_user_input():\n",
    "        Backend.print_col(\"Student Course Menu (c/e/r/s/x):\", 'blue') \n",
    "        user_input = input()\n",
    "        return user_input\n",
    "    \n",
    "    def get_count(self):\n",
    "        return len(self.students['students'][self.student]['subjects'])\n",
    "    \n",
    "    @staticmethod\n",
    "    def update_password():\n",
    "        new_password = input(\"New Password:\")\n",
    "        confirm_password = input(\"Confirm Password:\")\n",
    "        \n",
    "        while confirm_password != new_password:\n",
    "            Backend.print_col(\"Password does not match - try again\", \"red\")   \n",
    "            confirm_password = input(\"Confirm Password:\")\n",
    "    \n",
    "    def show(self):\n",
    "        data = self.students\n",
    "        subject_count = Backend.get_count(self)\n",
    "        contents = self.db.read()\n",
    "        if subject_count > 0:\n",
    "            Backend.print_col(f\"Showing {subject_count} subjects\", \"yellow\")\n",
    "            subjects = data['students'][self.student]['subjects']  \n",
    "            for i in range(len(subjects)):\n",
    "                print(f\"  Subject::{subjects[i]['subject']} -- mark = {subjects[i]['mark']} -- grade == {subjects[i]['grade']}\")\n",
    "                \n",
    "            user_input = Backend.standard_user_input()\n",
    "            return user_input\n",
    "        else:\n",
    "            Backend.print_col(\"No subjects currently enrolled.\", \"red\") # Error Handling\n",
    "            user_input = Backend.standard_user_input()\n",
    "            return user_input\n",
    "    \n",
    "    def removal(self):\n",
    "        while True:\n",
    "            subject = str(input(\"Remove Subject by ID: \"))\n",
    "            if subject.lower() == 'b':\n",
    "                return  # Exit the function and return to the main menu immediately\n",
    "\n",
    "            data = self.students\n",
    "            \n",
    "            # Check if the student exists\n",
    "            if 'students' in data and self.student in data['students']:\n",
    "                student_data = data['students'][self.student]\n",
    "\n",
    "                # Check if the subject is listed\n",
    "                subjects = student_data.get('subjects', [])\n",
    "                subject_to_remove = next((s for s in subjects if s['subject'] == subject), None)\n",
    "\n",
    "                if subject_to_remove:\n",
    "                    Backend.print_col(f\"Dropping Subject-{subject}\", \"yellow\")\n",
    "                    # Remove the subject\n",
    "                    subjects.remove(subject_to_remove)\n",
    "\n",
    "                    # Write updated data back to the file\n",
    "                    self.db.write(data)\n",
    "                    Backend.print_col(f\"You are now enrolled in {len(subjects)} out of 4 subjects\", \"yellow\")\n",
    "                    return\n",
    "                else:\n",
    "                    Backend.print_col(f\"Error: Subject-{subject} is not in subject list. Available subjects are:\", \"red\")\n",
    "                    for s in subjects:\n",
    "                        print(f\" - Subject: {s['subject']}\")\n",
    "                    Backend.print_col(f\"Or press 'b' to go back to menu\", \"red\")\n",
    "            else:\n",
    "                Backend.print_col(\"Error: Student data not found.\", \"red\")\n",
    "                return\n",
    "\n",
    "    \n",
    "    def enrollment(self):\n",
    "        subject_count = Backend.get_count(self)\n",
    "        if subject_count >= 4: # Error Handling\n",
    "            Backend.print_col(\"Students are allowed to enrol in 4 subjects only\", \"red\")\n",
    "            user_input = Backend.standard_user_input()\n",
    "        else:\n",
    "            subject_id = SubjectClass.Gen_SubjectID(self)\n",
    "            mark, grade = SubjectClass.Gen_Results(self)\n",
    "            Backend.print_col(f\"Enrolling in Subject-{subject_id}\", \"yellow\")\n",
    "            \n",
    "            # Load student data\n",
    "            data = self.students\n",
    "\n",
    "            if 'subjects' not in data['students'][self.student]:\n",
    "                data['students'][self.student]['subjects'] = []\n",
    "\n",
    "            subjects = {'subject': subject_id, 'mark': mark, 'grade': grade}\n",
    "            data['students'][self.student]['subjects'].append(subjects)\n",
    "\n",
    "            # Write updated data\n",
    "            self.db.write(data)\n",
    "\n",
    "            subject_count = Backend.get_count(self)\n",
    "            Backend.print_col(f\"You are now enrolled in {subject_count} out of 4 subjects\", \"yellow\")\n",
    "            user_input = Backend.standard_user_input()\n",
    "\n",
    "        return user_input\n",
    "\n",
    "class StuCourseSys():\n",
    "\n",
    "    def __init__(self, email):\n",
    "\n",
    "        self.db = DataBase(email)\n",
    "        self.be = Backend(self.db)\n",
    "        self.contents = self.db.read()\n",
    "        self.user_input = self.be.standard_user_input()\n",
    "        self.correct_inputs = ['x', 'c', 'e', 'r', 's']\n",
    "\n",
    "    def main(self):\n",
    "\n",
    "        while self.user_input != 'x':\n",
    "            \n",
    "            if self.user_input == 'c': # Changing Subject\n",
    "                self.be.print_col(\"Updating Password\", \"yellow\")\n",
    "                self.be.update_password()\n",
    "                self.user_input = self.be.standard_user_input()\n",
    "                \n",
    "            elif self.user_input == 'e': # Enrollment \n",
    "                self.user_input = self.be.enrollment()\n",
    "                    \n",
    "            elif self.user_input == 'r':  # Removing Subject\n",
    "                self.be.removal()\n",
    "                self.user_input = self.be.standard_user_input()\n",
    "                    \n",
    "            elif self.user_input == 's': # Showing subjects\n",
    "                self.user_input = self.be.show()\n",
    "\n",
    "            elif self.user_input not in self.correct_inputs: # Error Handling\n",
    "                self.be.print_col(f\"Input {self.user_input} not a valid input. Try again...\", \"red\") \n",
    "                self.user_input = self.be.standard_user_input()\n",
    "\n",
    "if __name__ == \"__main__\":\n",
    "    system = StuCourseSys('alen.jones@university.com')\n",
    "    system.main()\n"
   ]
  },
  {
   "cell_type": "code",
   "execution_count": 70,
   "id": "c04d6bbb-70bf-4b19-b70e-978348f7ba0a",
   "metadata": {
    "tags": []
   },
   "outputs": [],
   "source": [
    "import logging\n",
    "\n",
    "class Controller:\n",
    "    def __init__(self, email):\n",
    "        self.backend = Backend(email)\n",
    "\n",
    "    def enroll_student(self):\n",
    "        self.backend.enrollment(self)\n",
    "\n",
    "    def remove_subject(self, subject_id):\n",
    "        self.backend.removal(subject_id)\n",
    "        logging.info(f\"Subject {subject_id} removed\")\n",
    "\n",
    "    def show_subjects(self):\n",
    "        return self.backend.show"
   ]
  },
  {
   "cell_type": "code",
   "execution_count": null,
   "id": "f72a402e-a6cc-4637-83b1-79556783797e",
   "metadata": {},
   "outputs": [
    {
     "name": "stdin",
     "output_type": "stream",
     "text": [
      "Student System (l/r/x):  l\n"
     ]
    },
    {
     "name": "stdout",
     "output_type": "stream",
     "text": [
      "\u001b[92mStudent Sign In\u001b[0m\n"
     ]
    },
    {
     "name": "stdin",
     "output_type": "stream",
     "text": [
      "Enter your email:  john.smith@university.com\n",
      "Enter your password:  Helloworld123\n"
     ]
    },
    {
     "name": "stdout",
     "output_type": "stream",
     "text": [
      "\u001b[91mStudent does not exist\u001b[0m\n"
     ]
    },
    {
     "name": "stdin",
     "output_type": "stream",
     "text": [
      "Student System (l/r/x):  x\n"
     ]
    },
    {
     "name": "stdout",
     "output_type": "stream",
     "text": [
      "\u001b[93mThank you!\u001b[0m\n"
     ]
    }
   ],
   "source": [
    "from student_controller import StudentController\n",
    "import cop_Student_Course_System_copy\n",
    "\n",
    "def main():\n",
    "    controller = StudentController()\n",
    "\n",
    "    while True:\n",
    "        command = input(\"Student System (l/r/x): \").strip().lower()\n",
    "        if command == 'x':\n",
    "            print(\"\\033[93mThank you!\\033[0m\")  # Yellow color for \"Thank you!\"\n",
    "            break\n",
    "        elif command == 'l':\n",
    "            print(\"\\033[92mStudent Sign In\\033[0m\")\n",
    "            email = input(\"Enter your email: \").strip()\n",
    "            password = input(\"Enter your password: \").strip()\n",
    "            success, message = controller.login_student(email, password)\n",
    "            if success:\n",
    "                print(\"\\033[92mLogin successful!\\033[0m\")\n",
    "                course_sys = cop_Student_Course_System_copy.StuCourseSys(email)\n",
    "                course_sys.main()  # Main interactive loop of course system\n",
    "            else:\n",
    "                print(\"\\033[91mStudent does not exist\\033[0m\")\n",
    "        elif command == 'r':\n",
    "            # Similar setup for registration...\n",
    "            pass\n",
    "\n",
    "if __name__ == '__main__':\n",
    "    main()"
   ]
  },
  {
   "cell_type": "code",
   "execution_count": 75,
   "id": "9228d734-3093-4972-ba94-541acb9eed6d",
   "metadata": {
    "tags": []
   },
   "outputs": [
    {
     "name": "stdin",
     "output_type": "stream",
     "text": [
      "Student System (l/r/x):  l\n"
     ]
    },
    {
     "name": "stdout",
     "output_type": "stream",
     "text": [
      "\u001b[92mStudent Sign In\u001b[0m\n"
     ]
    },
    {
     "name": "stdin",
     "output_type": "stream",
     "text": [
      "Enter your email:  alen.jones@university.com\n",
      "Enter your password:  Helloworld123\n"
     ]
    },
    {
     "name": "stdout",
     "output_type": "stream",
     "text": [
      "None\n",
      "\u001b[91mStudent does not exist\u001b[0m\n"
     ]
    },
    {
     "name": "stdin",
     "output_type": "stream",
     "text": [
      "Student System (l/r/x):  x\n"
     ]
    },
    {
     "name": "stdout",
     "output_type": "stream",
     "text": [
      "\u001b[93mThank you!\u001b[0m\n"
     ]
    }
   ],
   "source": [
    "from student_controller import StudentController\n",
    "import cop_Student_Course_System_copy\n",
    "import re\n",
    "\n",
    "def main():\n",
    "    controller = StudentController()\n",
    "    \n",
    "    while True:\n",
    "        command = input(\"Student System (l/r/x): \").strip().lower()\n",
    "\n",
    "        if command == 'x':\n",
    "            print(\"\\033[93mThank you!\\033[0m\")  # Yellow color for \"Thank you!\"\n",
    "            break\n",
    "        \n",
    "        elif command == 'l':\n",
    "            print(\"\\033[92mStudent Sign In\\033[0m\")\n",
    "            email = input(\"Enter your email: \").strip()\n",
    "            password = input(\"Enter your password: \").strip()\n",
    "\n",
    "            if not re.match(r'^[A-Z][a-zA-Z]{5,}\\d{3,}$', password) or not re.match(r'^([a-zA-Z]+)\\.([a-zA-Z]+)@university\\.com$', email):\n",
    "                print(\"\\033[91mIncorrect email or password format\\033[0m\")\n",
    "            else:\n",
    "                success, message = controller.login_student(email, password)\n",
    "                if success:\n",
    "                    print(\"\\033[92mLogin successful!\\033[0m\")\n",
    "                    course_sys = cop_Student_Course_System_copy.StuCourseSys(email) \n",
    "                    course_sys.main()\n",
    "                else:\n",
    "                    print(controller.load_students())\n",
    "                    print(\"\\033[91mStudent does not exist\\033[0m\")\n",
    "\n",
    "        elif command == 'r':\n",
    "            print(\"\\033[92mStudent Sign Up\\033[0m\")\n",
    "            email = input(\"Enter your email: \").strip()\n",
    "            password = input(\"Enter your password: \").strip()\n",
    "\n",
    "            if not re.match(r'^[A-Z][a-zA-Z]{5,}\\d{3,}$', password) or not re.match(r'^([a-zA-Z]+)\\.([a-zA-Z]+)@university\\.com$', email):\n",
    "                print(\"\\033[91mIncorrect email or password format\\033[0m\")\n",
    "            else:\n",
    "                try:\n",
    "                    firstname, lastname = email.split('@')[0].split('.')\n",
    "                    success, message = controller.register_student(firstname, lastname, email, password)\n",
    "                    if success:\n",
    "                        print(\"\\033[93m{}\".format(message), \"\\033[0m\")\n",
    "                    else:\n",
    "                        print(\"\\033[91m{}\".format(message), \"\\033[0m\")\n",
    "                except ValueError:\n",
    "                    print(\"\\033[91mInvalid email format. Please use firstname.lastname@university.com\\033[0m\")\n",
    "        else:\n",
    "            print(\"\\033[91mInvalid command. Please enter 'lto login, 'r' to register, or 'x' to exit.\\033[0m\")\n",
    "\n",
    "if __name__ == '__main__':\n",
    "    main()"
   ]
  },
  {
   "cell_type": "code",
   "execution_count": 76,
   "id": "a14b86a3-ef30-4f0a-ae22-7909d7ec30fd",
   "metadata": {},
   "outputs": [
    {
     "name": "stderr",
     "output_type": "stream",
     "text": [
      "2024-05-18 12:56:39,575 - DEBUG - Reading data from file\n",
      "2024-05-18 12:56:39,576 - ERROR - Error decoding JSON from the file.\n"
     ]
    },
    {
     "name": "stdout",
     "output_type": "stream",
     "text": [
      "Initial data load: {}\n"
     ]
    },
    {
     "ename": "KeyError",
     "evalue": "'students'",
     "output_type": "error",
     "traceback": [
      "\u001b[1;31m---------------------------------------------------------------------------\u001b[0m",
      "\u001b[1;31mKeyError\u001b[0m                                  Traceback (most recent call last)",
      "Cell \u001b[1;32mIn[76], line 1\u001b[0m\n\u001b[1;32m----> 1\u001b[0m be \u001b[38;5;241m=\u001b[39m \u001b[43mBackend\u001b[49m\u001b[43m(\u001b[49m\u001b[38;5;124;43m\"\u001b[39;49m\u001b[38;5;124;43mjohn.smith@university.com\u001b[39;49m\u001b[38;5;124;43m\"\u001b[39;49m\u001b[43m)\u001b[49m\n\u001b[0;32m      2\u001b[0m be\u001b[38;5;241m.\u001b[39mshow()\n",
      "Cell \u001b[1;32mIn[68], line 10\u001b[0m, in \u001b[0;36mBackend.__init__\u001b[1;34m(self, email)\u001b[0m\n\u001b[0;32m      8\u001b[0m \u001b[38;5;28mprint\u001b[39m(\u001b[38;5;124mf\u001b[39m\u001b[38;5;124m\"\u001b[39m\u001b[38;5;124mInitial data load: \u001b[39m\u001b[38;5;132;01m{\u001b[39;00m\u001b[38;5;28mself\u001b[39m\u001b[38;5;241m.\u001b[39mstudents\u001b[38;5;132;01m}\u001b[39;00m\u001b[38;5;124m\"\u001b[39m)  \u001b[38;5;66;03m# Debugging: Show initial data load\u001b[39;00m\n\u001b[0;32m      9\u001b[0m \u001b[38;5;28mself\u001b[39m\u001b[38;5;241m.\u001b[39mstudent \u001b[38;5;241m=\u001b[39m email\n\u001b[1;32m---> 10\u001b[0m \u001b[38;5;28mself\u001b[39m\u001b[38;5;241m.\u001b[39mstudent_file \u001b[38;5;241m=\u001b[39m \u001b[38;5;28;43mself\u001b[39;49m\u001b[38;5;241;43m.\u001b[39;49m\u001b[43mstudents\u001b[49m\u001b[43m[\u001b[49m\u001b[38;5;124;43m'\u001b[39;49m\u001b[38;5;124;43mstudents\u001b[39;49m\u001b[38;5;124;43m'\u001b[39;49m\u001b[43m]\u001b[49m\u001b[38;5;241m.\u001b[39mget(\u001b[38;5;28mself\u001b[39m\u001b[38;5;241m.\u001b[39mstudent, {})\n\u001b[0;32m     11\u001b[0m \u001b[38;5;28mprint\u001b[39m(\u001b[38;5;124mf\u001b[39m\u001b[38;5;124m\"\u001b[39m\u001b[38;5;124mStudent file loaded for \u001b[39m\u001b[38;5;132;01m{\u001b[39;00memail\u001b[38;5;132;01m}\u001b[39;00m\u001b[38;5;124m: \u001b[39m\u001b[38;5;132;01m{\u001b[39;00m\u001b[38;5;28mself\u001b[39m\u001b[38;5;241m.\u001b[39mstudent_file\u001b[38;5;132;01m}\u001b[39;00m\u001b[38;5;124m\"\u001b[39m)\n",
      "\u001b[1;31mKeyError\u001b[0m: 'students'"
     ]
    }
   ],
   "source": [
    "be = Backend(\"john.smith@university.com\")\n",
    "be.show()"
   ]
  },
  {
   "cell_type": "code",
   "execution_count": 77,
   "id": "9ad5e94a-7258-4cae-8a91-1de7f44f13b4",
   "metadata": {},
   "outputs": [
    {
     "name": "stderr",
     "output_type": "stream",
     "text": [
      "2024-05-18 12:56:58,049 - DEBUG - Reading data from file\n",
      "2024-05-18 12:56:58,050 - ERROR - Error decoding JSON from the file.\n"
     ]
    },
    {
     "name": "stdout",
     "output_type": "stream",
     "text": [
      "Initial data load: {}\n"
     ]
    },
    {
     "ename": "KeyError",
     "evalue": "'students'",
     "output_type": "error",
     "traceback": [
      "\u001b[1;31m---------------------------------------------------------------------------\u001b[0m",
      "\u001b[1;31mKeyError\u001b[0m                                  Traceback (most recent call last)",
      "Cell \u001b[1;32mIn[77], line 2\u001b[0m\n\u001b[0;32m      1\u001b[0m \u001b[38;5;28;01mif\u001b[39;00m \u001b[38;5;18m__name__\u001b[39m \u001b[38;5;241m==\u001b[39m \u001b[38;5;124m\"\u001b[39m\u001b[38;5;124m__main__\u001b[39m\u001b[38;5;124m\"\u001b[39m:\n\u001b[1;32m----> 2\u001b[0m     system \u001b[38;5;241m=\u001b[39m \u001b[43mStuCourseSys\u001b[49m\u001b[43m(\u001b[49m\u001b[38;5;124;43m'\u001b[39;49m\u001b[38;5;124;43mcarm.page@university.com\u001b[39;49m\u001b[38;5;124;43m'\u001b[39;49m\u001b[43m)\u001b[49m\n\u001b[0;32m      3\u001b[0m     system\u001b[38;5;241m.\u001b[39mmain()\n",
      "Cell \u001b[1;32mIn[68], line 113\u001b[0m, in \u001b[0;36mStuCourseSys.__init__\u001b[1;34m(self, email)\u001b[0m\n\u001b[0;32m    111\u001b[0m \u001b[38;5;28;01mdef\u001b[39;00m \u001b[38;5;21m__init__\u001b[39m(\u001b[38;5;28mself\u001b[39m, email):\n\u001b[0;32m    112\u001b[0m     \u001b[38;5;28mself\u001b[39m\u001b[38;5;241m.\u001b[39mdb \u001b[38;5;241m=\u001b[39m DataBase()\n\u001b[1;32m--> 113\u001b[0m     \u001b[38;5;28mself\u001b[39m\u001b[38;5;241m.\u001b[39mbe \u001b[38;5;241m=\u001b[39m \u001b[43mBackend\u001b[49m\u001b[43m(\u001b[49m\u001b[43memail\u001b[49m\u001b[43m)\u001b[49m\n\u001b[0;32m    114\u001b[0m     \u001b[38;5;28mself\u001b[39m\u001b[38;5;241m.\u001b[39mcontents \u001b[38;5;241m=\u001b[39m \u001b[38;5;28mself\u001b[39m\u001b[38;5;241m.\u001b[39mdb\u001b[38;5;241m.\u001b[39mread()\n\u001b[0;32m    115\u001b[0m     \u001b[38;5;28mself\u001b[39m\u001b[38;5;241m.\u001b[39muser_input \u001b[38;5;241m=\u001b[39m \u001b[38;5;28mself\u001b[39m\u001b[38;5;241m.\u001b[39mbe\u001b[38;5;241m.\u001b[39mstandard_user_input()\n",
      "Cell \u001b[1;32mIn[68], line 10\u001b[0m, in \u001b[0;36mBackend.__init__\u001b[1;34m(self, email)\u001b[0m\n\u001b[0;32m      8\u001b[0m \u001b[38;5;28mprint\u001b[39m(\u001b[38;5;124mf\u001b[39m\u001b[38;5;124m\"\u001b[39m\u001b[38;5;124mInitial data load: \u001b[39m\u001b[38;5;132;01m{\u001b[39;00m\u001b[38;5;28mself\u001b[39m\u001b[38;5;241m.\u001b[39mstudents\u001b[38;5;132;01m}\u001b[39;00m\u001b[38;5;124m\"\u001b[39m)  \u001b[38;5;66;03m# Debugging: Show initial data load\u001b[39;00m\n\u001b[0;32m      9\u001b[0m \u001b[38;5;28mself\u001b[39m\u001b[38;5;241m.\u001b[39mstudent \u001b[38;5;241m=\u001b[39m email\n\u001b[1;32m---> 10\u001b[0m \u001b[38;5;28mself\u001b[39m\u001b[38;5;241m.\u001b[39mstudent_file \u001b[38;5;241m=\u001b[39m \u001b[38;5;28;43mself\u001b[39;49m\u001b[38;5;241;43m.\u001b[39;49m\u001b[43mstudents\u001b[49m\u001b[43m[\u001b[49m\u001b[38;5;124;43m'\u001b[39;49m\u001b[38;5;124;43mstudents\u001b[39;49m\u001b[38;5;124;43m'\u001b[39;49m\u001b[43m]\u001b[49m\u001b[38;5;241m.\u001b[39mget(\u001b[38;5;28mself\u001b[39m\u001b[38;5;241m.\u001b[39mstudent, {})\n\u001b[0;32m     11\u001b[0m \u001b[38;5;28mprint\u001b[39m(\u001b[38;5;124mf\u001b[39m\u001b[38;5;124m\"\u001b[39m\u001b[38;5;124mStudent file loaded for \u001b[39m\u001b[38;5;132;01m{\u001b[39;00memail\u001b[38;5;132;01m}\u001b[39;00m\u001b[38;5;124m: \u001b[39m\u001b[38;5;132;01m{\u001b[39;00m\u001b[38;5;28mself\u001b[39m\u001b[38;5;241m.\u001b[39mstudent_file\u001b[38;5;132;01m}\u001b[39;00m\u001b[38;5;124m\"\u001b[39m)\n",
      "\u001b[1;31mKeyError\u001b[0m: 'students'"
     ]
    }
   ],
   "source": [
    "if __name__ == \"__main__\":\n",
    "    system = StuCourseSys('carm.page@university.com')\n",
    "    system.main()"
   ]
  },
  {
   "cell_type": "code",
   "execution_count": null,
   "id": "bba4b4cd-190c-4467-bf77-f743176ec8d0",
   "metadata": {},
   "outputs": [],
   "source": []
  }
 ],
 "metadata": {
  "kernelspec": {
   "display_name": "Python 3 (ipykernel)",
   "language": "python",
   "name": "python3"
  },
  "language_info": {
   "codemirror_mode": {
    "name": "ipython",
    "version": 3
   },
   "file_extension": ".py",
   "mimetype": "text/x-python",
   "name": "python",
   "nbconvert_exporter": "python",
   "pygments_lexer": "ipython3",
   "version": "3.9.12"
  }
 },
 "nbformat": 4,
 "nbformat_minor": 5
}

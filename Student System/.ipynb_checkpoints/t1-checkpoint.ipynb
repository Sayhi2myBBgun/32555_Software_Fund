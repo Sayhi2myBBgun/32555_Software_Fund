{
 "cells": [
  {
   "cell_type": "code",
   "execution_count": 3,
   "id": "b9f4b636-f508-4055-a9ae-169f38517d2c",
   "metadata": {
    "tags": []
   },
   "outputs": [
    {
     "ename": "IndentationError",
     "evalue": "expected an indented block (3104817722.py, line 44)",
     "output_type": "error",
     "traceback": [
      "\u001b[1;36m  Cell \u001b[1;32mIn[3], line 44\u001b[1;36m\u001b[0m\n\u001b[1;33m    def write(self, data):\u001b[0m\n\u001b[1;37m    ^\u001b[0m\n\u001b[1;31mIndentationError\u001b[0m\u001b[1;31m:\u001b[0m expected an indented block\n"
     ]
    }
   ],
   "source": [
    "# Libraries\n",
    "import random\n",
    "import os\n",
    "import json\n",
    "\n",
    "class SubjectClass():\n",
    "\n",
    "    def Gen_SubjectID(self):\n",
    "        \n",
    "        number = random.randint(1,999)\n",
    "        formatted_id = f\"{number:03d}\"\n",
    "        return(formatted_id)\n",
    "    \n",
    "    def Gen_Results(self):\n",
    "        # Generate Marks + Grade in same function\n",
    "        mark = random.randint(25,100)\n",
    "        if mark <= 49:\n",
    "            grade = 'F'\n",
    "        elif mark >= 50 and mark <= 64:\n",
    "            grade = 'P'\n",
    "        elif mark >= 65 and mark <= 74:\n",
    "            grade = 'C'\n",
    "        elif mark >= 75 and mark <= 84:\n",
    "            grade = 'D'\n",
    "        elif mark > 85:\n",
    "            grade = 'HD'\n",
    "        \n",
    "        return mark, grade\n",
    "    \n",
    "class DataBase:\n",
    "    def __init__(self, filename=\"student.data\"):\n",
    "        self.filename = filename \n",
    "        self.check_and_create_file()\n",
    "\n",
    "    def check_and_create_file(self):\n",
    "        print(f\"Checking if '{self.filename}' exists...\")\n",
    "        if not os.path.exists(self.filename):\n",
    "            with open(self.filename, 'w') as file:\n",
    "                file.write(\"\")  # Create an empty file\n",
    "            print(f\"File '{self.filename}' created.\")\n",
    "        else:\n",
    "            print(f\"File '{self.filename}' exists.\")\n",
    "\n",
    "    def write(self, data):\n",
    "        try:\n",
    "            with open(self.filename, 'w') as fileHandler:\n",
    "                json.dump(data, fileHandler, indent=2)\n",
    "                fileHandler.flush()\n",
    "                os.fsync(fileHandler.fileno())\n",
    "            # print(f\"Data written to {self.filename}\")\n",
    "        except Exception as e:\n",
    "            print(f\"An error occurred while writing to the file: {e}\")\n",
    "\n",
    "    def read(self):\n",
    "        try:\n",
    "            if not os.path.exists(self.filename):\n",
    "                print(f\"File '{self.filename}' does not exist.\")\n",
    "                return {\"students\": {}, \"used_ids\": []}\n",
    "            if os.stat(self.filename).st_size == 0:\n",
    "                print(f\"File '{self.filename}' is empty.\")\n",
    "                return {\"students\": {}, \"used_ids\": []}\n",
    "            with open(self.filename, 'r') as fileHandler:\n",
    "                return json.load(fileHandler)\n",
    "        except json.JSONDecodeError:\n",
    "            print(\"Error: File contains invalid JSON.\")\n",
    "            return {\"students\": {}, \"used_ids\": []}\n",
    "        except Exception as e:\n",
    "            print(f\"An error occurred: {e}\")\n",
    "            return {\"students\": {}, \"used_ids\": []}\n",
    "\n",
    "class Backend():\n",
    "    \"Needs 'db' DataBase object to perform get_count function\"\n",
    "\n",
    "    def __init__(self, email):\n",
    "        self.filename = 'student.data'\n",
    "        self.db = DataBase()\n",
    "        self.students = self.db.read()\n",
    "        self.student = email\n",
    "\n",
    "    @staticmethod\n",
    "    def print_col(text, colour):\n",
    "        colours = {\n",
    "            'blue': '\\033[96m',   # Blue\n",
    "            'yellow': '\\033[93m', # Yellow\n",
    "            'red': '\\033[91m',    # Red\n",
    "            'end': '\\033[0m',\n",
    "        }\n",
    "        colour_code = colours.get(colour, colours['end'])\n",
    "        print(f\"{colour_code}{text}{colours['end']}\")\n",
    "\n",
    "    @staticmethod\n",
    "    def standard_user_input():\n",
    "        Backend.print_col(\"Student Course Menu (c/e/r/s/x):\", 'blue')\n",
    "        user_input = input()\n",
    "        return user_input\n",
    "\n",
    "    def check_sub(self):\n",
    "        data = self.students\n",
    "        if 'subjects' in data['students'][self.student]:\n",
    "            return True\n",
    "        return False\n",
    "\n",
    "    def get_count(self):\n",
    "        if self.check_sub():\n",
    "            return len(self.students['students'][self.student]['subjects'])\n",
    "        else:\n",
    "            return 0\n",
    "\n",
    "    @staticmethod\n",
    "    def update_password():\n",
    "        new_password = input(\"New Password:\")\n",
    "        confirm_password = input(\"Confirm Password:\")\n",
    "\n",
    "        while confirm_password != new_password:\n",
    "            Backend.print_col(\"Password does not match - try again\", \"red\")\n",
    "            confirm_password = input(\"Confirm Password:\")\n",
    "\n",
    "    def show(self):\n",
    "        subject_count = self.get_count()\n",
    "        if subject_count > 0:\n",
    "            Backend.print_col(f\"Showing {subject_count} subjects\", \"yellow\")\n",
    "            subjects = self.students['students'][self.student]['subjects']\n",
    "            for i in range(len(subjects)):\n",
    "                print(f\"  Subject::{subjects[i]['subject']} -- mark = {subjects[i]['mark']} -- grade == {subjects[i]['grade']}\")\n",
    "            user_input = Backend.standard_user_input()\n",
    "            return user_input\n",
    "        else:\n",
    "            Backend.print_col(\"No subjects currently enrolled.\", \"red\")\n",
    "            user_input = Backend.standard_user_input()\n",
    "            return user_input\n",
    "    \n",
    "    def removal(self):\n",
    "        while True:\n",
    "            subject = str(input(\"Remove Subject by ID: \"))\n",
    "            if subject.lower() == 'b':\n",
    "                return  # Exit the function and return to the main menu immediately\n",
    "\n",
    "            data = self.students\n",
    "            \n",
    "            # Check if the student exists\n",
    "            if 'students' in data and self.student in data['students']:\n",
    "                student_data = data['students'][self.student]\n",
    "\n",
    "                # Check if the subject is listed\n",
    "                subjects = student_data.get('subjects', [])\n",
    "                subject_to_remove = next((s for s in subjects if s['subject'] == subject), None)\n",
    "\n",
    "                if subject_to_remove:\n",
    "                    Backend.print_col(f\"Dropping Subject-{subject}\", \"yellow\")\n",
    "                    # Remove the subject\n",
    "                    subjects.remove(subject_to_remove)\n",
    "\n",
    "                    # Write updated data back to the file\n",
    "                    self.db.write(data)\n",
    "                    Backend.print_col(f\"You are now enrolled in {len(subjects)} out of 4 subjects\", \"yellow\")\n",
    "                    return\n",
    "                else:\n",
    "                    Backend.print_col(f\"Error: Subject-{subject} is not in subject list. Available subjects are:\", \"red\")\n",
    "                    for s in subjects:\n",
    "                        print(f\" - Subject: {s['subject']}\")\n",
    "                    Backend.print_col(f\"Or press 'b' to go back to menu\", \"red\")\n",
    "            else:\n",
    "                Backend.print_col(\"Error: Student data not found.\", \"red\")\n",
    "                return\n",
    "\n",
    "    def enrollment(self):\n",
    "        subject_count = Backend.get_count(self)\n",
    "        if subject_count >= 4: # Error Handling\n",
    "            Backend.print_col(\"Students are allowed to enrol in 4 subjects only\", \"red\")\n",
    "            user_input = Backend.standard_user_input()\n",
    "        else:\n",
    "            subject_id = SubjectClass.Gen_SubjectID(self)\n",
    "            mark, grade = SubjectClass.Gen_Results(self)\n",
    "            Backend.print_col(f\"Enrolling in Subject-{subject_id}\", \"yellow\")\n",
    "            \n",
    "            # Load student data\n",
    "            data = self.students\n",
    "            if 'subjects' not in data['students'][self.student]:\n",
    "                data['students'][self.student]['subjects'] = []\n",
    "\n",
    "            subjects = {'subject': subject_id, 'mark': mark, 'grade': grade}\n",
    "            data['students'][self.student]['subjects'].append(subjects)\n",
    "            # print(f\"Updated data: {data}\")\n",
    "            # Write updated data\n",
    "            self.db.write(data)\n",
    "            # print(\"Data written to file.\")\n",
    "\n",
    "            subject_count = Backend.get_count(self)\n",
    "            Backend.print_col(f\"You are now enrolled in {subject_count} out of 4 subjects\", \"yellow\")\n",
    "            user_input = Backend.standard_user_input()\n",
    "\n",
    "        return user_input\n",
    "\n",
    "class StuCourseSys():\n",
    "\n",
    "    def __init__(self, email):\n",
    "\n",
    "        self.db = DataBase()\n",
    "        self.be = Backend(email)\n",
    "        self.contents = self.db.read()\n",
    "        self.user_input = self.be.standard_user_input()\n",
    "        self.correct_inputs = ['x', 'c', 'e', 'r', 's']\n",
    "\n",
    "    def main(self):\n",
    "\n",
    "        while self.user_input != 'x':\n",
    "            \n",
    "            if self.user_input == 'c': # Changing Subject\n",
    "                self.be.print_col(\"Updating Password\", \"yellow\")\n",
    "                self.be.update_password()\n",
    "                self.user_input = self.be.standard_user_input()\n",
    "                \n",
    "            elif self.user_input == 'e': # Enrollment \n",
    "                self.user_input = self.be.enrollment()\n",
    "                    \n",
    "            elif self.user_input == 'r':  # Removing Subject\n",
    "                self.be.removal()\n",
    "                self.user_input = self.be.standard_user_input()\n",
    "                    \n",
    "            elif self.user_input == 's': # Showing subjects\n",
    "                self.user_input = self.be.show()\n",
    "\n",
    "            elif self.user_input not in self.correct_inputs: # Error Handling\n",
    "                self.be.print_col(f\"Input {self.user_input} not a valid input. Try again...\", \"red\") \n",
    "                self.user_input = self.be.standard_user_input()"
   ]
  },
  {
   "cell_type": "code",
   "execution_count": 2,
   "id": "9228d734-3093-4972-ba94-541acb9eed6d",
   "metadata": {
    "tags": []
   },
   "outputs": [
    {
     "name": "stdin",
     "output_type": "stream",
     "text": [
      "Student System (l/r/x):  l\n"
     ]
    },
    {
     "name": "stdout",
     "output_type": "stream",
     "text": [
      "\u001b[92mStudent Sign In\u001b[0m\n"
     ]
    },
    {
     "name": "stdin",
     "output_type": "stream",
     "text": [
      "Enter your email:  carm.page@university.com\n",
      "Enter your password:  HelloWorld123\n"
     ]
    },
    {
     "name": "stdout",
     "output_type": "stream",
     "text": [
      "\u001b[92mLogin successful!\u001b[0m\n",
      "Checking if 'student.data' exists...\n",
      "File 'student.data' exists.\n",
      "Checking if 'student.data' exists...\n",
      "File 'student.data' exists.\n",
      "\u001b[96mStudent Course Menu (c/e/r/s/x):\u001b[0m\n"
     ]
    },
    {
     "name": "stdin",
     "output_type": "stream",
     "text": [
      " x\n",
      "Student System (l/r/x):  x\n"
     ]
    },
    {
     "name": "stdout",
     "output_type": "stream",
     "text": [
      "\u001b[93mThank you!\u001b[0m\n"
     ]
    }
   ],
   "source": [
    "from student_controller import StudentController\n",
    "import cop_Student_Course_System_copy\n",
    "import re\n",
    "\n",
    "def main():\n",
    "    controller = StudentController()\n",
    "    \n",
    "    while True:\n",
    "        command = input(\"Student System (l/r/x): \").strip().lower()\n",
    "\n",
    "        if command == 'x':\n",
    "            print(\"\\033[93mThank you!\\033[0m\")  # Yellow color for \"Thank you!\"\n",
    "            break\n",
    "        \n",
    "        elif command == 'l':\n",
    "            print(\"\\033[92mStudent Sign In\\033[0m\")\n",
    "            email = input(\"Enter your email: \").strip()\n",
    "            password = input(\"Enter your password: \").strip()\n",
    "\n",
    "            if not re.match(r'^[A-Z][a-zA-Z]{5,}\\d{3,}$', password) or not re.match(r'^([a-zA-Z]+)\\.([a-zA-Z]+)@university\\.com$', email):\n",
    "                print(\"\\033[91mIncorrect email or password format\\033[0m\")\n",
    "            else:\n",
    "                success, message = controller.login_student(email, password)\n",
    "                if success:\n",
    "                    print(\"\\033[92mLogin successful!\\033[0m\")\n",
    "                    cop_Student_Course_System_copy.StuCourseSys(email) # Student enrollment system, have to amend to make sure the whole module works here\n",
    "                else:\n",
    "                    print(\"\\033[91mStudent does not exist\\033[0m\")\n",
    "\n",
    "        elif command == 'r':\n",
    "            print(\"\\033[92mStudent Sign Up\\033[0m\")\n",
    "            email = input(\"Enter your email: \").strip()\n",
    "            password = input(\"Enter your password: \").strip()\n",
    "\n",
    "            if not re.match(r'^[A-Z][a-zA-Z]{5,}\\d{3,}$', password) or not re.match(r'^([a-zA-Z]+)\\.([a-zA-Z]+)@university\\.com$', email):\n",
    "                print(\"\\033[91mIncorrect email or password format\\033[0m\")\n",
    "            else:\n",
    "                try:\n",
    "                    firstname, lastname = email.split('@')[0].split('.')\n",
    "                    success, message = controller.register_student(firstname, lastname, email, password)\n",
    "                    if success:\n",
    "                        print(\"\\033[93m{}\".format(message), \"\\033[0m\")\n",
    "                    else:\n",
    "                        print(\"\\033[91m{}\".format(message), \"\\033[0m\")\n",
    "                except ValueError:\n",
    "                    print(\"\\033[91mInvalid email format. Please use firstname.lastname@university.com\\033[0m\")\n",
    "        else:\n",
    "            print(\"\\033[91mInvalid command. Please enter 'lto login, 'r' to register, or 'x' to exit.\\033[0m\")\n",
    "\n",
    "if __name__ == '__main__':\n",
    "    main()"
   ]
  },
  {
   "cell_type": "code",
   "execution_count": 4,
   "id": "9ad5e94a-7258-4cae-8a91-1de7f44f13b4",
   "metadata": {},
   "outputs": [
    {
     "name": "stdout",
     "output_type": "stream",
     "text": [
      "Checking if 'student.data' exists...\n",
      "File 'student.data' exists.\n",
      "Checking if 'student.data' exists...\n",
      "File 'student.data' exists.\n",
      "\u001b[96mStudent Course Menu (c/e/r/s/x):\u001b[0m\n"
     ]
    },
    {
     "name": "stdin",
     "output_type": "stream",
     "text": [
      " c\n"
     ]
    },
    {
     "name": "stdout",
     "output_type": "stream",
     "text": [
      "\u001b[93mUpdating Password\u001b[0m\n"
     ]
    },
    {
     "name": "stdin",
     "output_type": "stream",
     "text": [
      "New Password: 123\n",
      "Confirm Password: 123\n"
     ]
    },
    {
     "name": "stdout",
     "output_type": "stream",
     "text": [
      "\u001b[96mStudent Course Menu (c/e/r/s/x):\u001b[0m\n"
     ]
    },
    {
     "name": "stdin",
     "output_type": "stream",
     "text": [
      " e\n"
     ]
    },
    {
     "name": "stdout",
     "output_type": "stream",
     "text": [
      "\u001b[93mEnrolling in Subject-435\u001b[0m\n",
      "Data written to student.data\n",
      "\u001b[93mYou are now enrolled in 3 out of 4 subjects\u001b[0m\n",
      "\u001b[96mStudent Course Menu (c/e/r/s/x):\u001b[0m\n"
     ]
    },
    {
     "name": "stdin",
     "output_type": "stream",
     "text": [
      " e\n"
     ]
    },
    {
     "name": "stdout",
     "output_type": "stream",
     "text": [
      "\u001b[93mEnrolling in Subject-886\u001b[0m\n",
      "Data written to student.data\n",
      "\u001b[93mYou are now enrolled in 4 out of 4 subjects\u001b[0m\n",
      "\u001b[96mStudent Course Menu (c/e/r/s/x):\u001b[0m\n"
     ]
    },
    {
     "name": "stdin",
     "output_type": "stream",
     "text": [
      " e\n"
     ]
    },
    {
     "name": "stdout",
     "output_type": "stream",
     "text": [
      "\u001b[91mStudents are allowed to enrol in 4 subjects only\u001b[0m\n",
      "\u001b[96mStudent Course Menu (c/e/r/s/x):\u001b[0m\n"
     ]
    },
    {
     "name": "stdin",
     "output_type": "stream",
     "text": [
      " r\n",
      "Remove Subject by ID:  adsf\n"
     ]
    },
    {
     "name": "stdout",
     "output_type": "stream",
     "text": [
      "\u001b[91mError: Subject-adsf is not in subject list. Available subjects are:\u001b[0m\n",
      " - Subject: 105\n",
      " - Subject: 114\n",
      " - Subject: 435\n",
      " - Subject: 886\n",
      "\u001b[91mOr press 'b' to go back to menu\u001b[0m\n"
     ]
    },
    {
     "name": "stdin",
     "output_type": "stream",
     "text": [
      "Remove Subject by ID:  105\n"
     ]
    },
    {
     "name": "stdout",
     "output_type": "stream",
     "text": [
      "\u001b[93mDropping Subject-105\u001b[0m\n",
      "Data written to student.data\n",
      "\u001b[93mYou are now enrolled in 3 out of 4 subjects\u001b[0m\n",
      "\u001b[96mStudent Course Menu (c/e/r/s/x):\u001b[0m\n"
     ]
    },
    {
     "name": "stdin",
     "output_type": "stream",
     "text": [
      " x\n"
     ]
    }
   ],
   "source": [
    "if __name__ == \"__main__\":\n",
    "    system = StuCourseSys('carm.page@university.com')\n",
    "    system.main()"
   ]
  },
  {
   "cell_type": "code",
   "execution_count": null,
   "id": "bba4b4cd-190c-4467-bf77-f743176ec8d0",
   "metadata": {},
   "outputs": [],
   "source": []
  }
 ],
 "metadata": {
  "kernelspec": {
   "display_name": "Python 3 (ipykernel)",
   "language": "python",
   "name": "python3"
  },
  "language_info": {
   "codemirror_mode": {
    "name": "ipython",
    "version": 3
   },
   "file_extension": ".py",
   "mimetype": "text/x-python",
   "name": "python",
   "nbconvert_exporter": "python",
   "pygments_lexer": "ipython3",
   "version": "3.9.12"
  }
 },
 "nbformat": 4,
 "nbformat_minor": 5
}

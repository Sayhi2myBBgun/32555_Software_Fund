{
 "cells": [
  {
   "cell_type": "code",
   "execution_count": 5,
   "id": "bde96dbb-95a8-40a5-8018-c4b06eb5f0e9",
   "metadata": {},
   "outputs": [
    {
     "name": "stdout",
     "output_type": "stream",
     "text": [
      "File 'student.data' already exists.\n"
     ]
    }
   ],
   "source": [
    "import os\n",
    "import json\n",
    "\n",
    "class DataBase:\n",
    "    def __init__(self, filename=\"student.data\"):\n",
    "        self.filename = filename\n",
    "        self.check_and_create_file()\n",
    "\n",
    "    def check_and_create_file(self):\n",
    "        if not os.path.exists(self.filename):\n",
    "            with open(self.filename, 'w') as file:\n",
    "                file.write(\"\")  # Create an empty file\n",
    "            print(f\"File '{self.filename}' created.\")\n",
    "        else:\n",
    "            print(f\"File '{self.filename}' already exists.\")\n",
    "\n",
    "    def write(self, txt):\n",
    "        with open(self.filename, 'w') as fileHandler:\n",
    "            json.dump(txt, fileHandler, indent=2)\n",
    "        print(f\"Data written to {self.filename}\")\n",
    "\n",
    "    def read(self):\n",
    "        try:\n",
    "            with open(self.filename, 'r') as fileHandler:\n",
    "                if os.stat(self.filename).st_size == 0:  # Check if the file is empty\n",
    "                    print(\"File is empty.\")\n",
    "                    return None\n",
    "                json_obj = json.load(fileHandler)\n",
    "                # print(json.dumps(json_obj, indent=4))\n",
    "                return json_obj\n",
    "        except json.JSONDecodeError:\n",
    "            print(\"Error: File contains invalid JSON.\")\n",
    "        except FileNotFoundError:\n",
    "            print(f\"File '{self.filename}' does not exist.\")\n",
    "        except Exception as e:\n",
    "            print(f\"An error occurred: {e}\")\n",
    "\n",
    "# Usage\n",
    "db = DataBase()"
   ]
  },
  {
   "cell_type": "code",
   "execution_count": 71,
   "id": "f9e8d6a0-9d5d-42aa-ae94-97b1768df326",
   "metadata": {},
   "outputs": [],
   "source": [
    "students = db.read()"
   ]
  },
  {
   "cell_type": "code",
   "execution_count": 72,
   "id": "79cd4110-a400-4e52-8586-781c4802428b",
   "metadata": {},
   "outputs": [
    {
     "data": {
      "text/plain": [
       "{'students': {'jialing.huang@university.com': {'first_name': 'jialing',\n",
       "   'last_name': 'huang',\n",
       "   'email': 'jialing.huang@university.com',\n",
       "   'password': 'Helloworld123',\n",
       "   'student_id': '787244'},\n",
       "  'john.smith@university.com': {'first_name': 'john',\n",
       "   'last_name': 'smith',\n",
       "   'email': 'john.smith@university.com',\n",
       "   'password': 'Helloworld123',\n",
       "   'student_id': '227569'},\n",
       "  'alen.jones@university.com': {'first_name': 'alen',\n",
       "   'last_name': 'jones',\n",
       "   'email': 'alen.jones@university.com',\n",
       "   'password': 'Helloworld123',\n",
       "   'student_id': '713228'}},\n",
       " 'used_ids': [227569, 787244, 713228]}"
      ]
     },
     "execution_count": 72,
     "metadata": {},
     "output_type": "execute_result"
    }
   ],
   "source": [
    "students"
   ]
  },
  {
   "cell_type": "code",
   "execution_count": 15,
   "id": "344892a4-3c39-4ef9-84b0-19fad8e0b4dd",
   "metadata": {},
   "outputs": [],
   "source": [
    "test = students['students']['alen.jones@university.com']"
   ]
  },
  {
   "cell_type": "code",
   "execution_count": 42,
   "id": "be2597a0-4fe5-453a-a630-76b5833d9093",
   "metadata": {},
   "outputs": [],
   "source": [
    "import random"
   ]
  },
  {
   "cell_type": "code",
   "execution_count": 43,
   "id": "185035b8-4c30-4ed1-8994-091e1cbd0728",
   "metadata": {},
   "outputs": [],
   "source": [
    "def Gen_SubjectID():\n",
    "    \n",
    "    number = random.randint(1,999)\n",
    "    formatted_id = f\"{number:03d}\"\n",
    "    return(formatted_id)"
   ]
  },
  {
   "cell_type": "code",
   "execution_count": 44,
   "id": "92d70009-8c15-4155-a2ca-002d1df45fbc",
   "metadata": {},
   "outputs": [],
   "source": [
    "def Gen_Results():\n",
    "    # Generate Marks + Grade in same function\n",
    "    mark = random.randint(25,100)\n",
    "    if mark <= 49:\n",
    "        grade = 'F'\n",
    "    elif mark >= 50 and mark <= 64:\n",
    "        grade = 'P'\n",
    "    elif mark >= 65 and mark <= 74:\n",
    "        grade = 'C'\n",
    "    elif mark >= 75 and mark <= 84:\n",
    "        grade = 'D'\n",
    "    elif mark > 85:\n",
    "        grade = 'HD'\n",
    "    \n",
    "    return mark, grade"
   ]
  },
  {
   "cell_type": "code",
   "execution_count": 69,
   "id": "c23d4a6a-63cd-4e89-98cb-9f50b96490ef",
   "metadata": {},
   "outputs": [
    {
     "data": {
      "text/plain": [
       "{'first_name': 'alen',\n",
       " 'last_name': 'jones',\n",
       " 'email': 'alen.jones@university.com',\n",
       " 'password': 'Helloworld123',\n",
       " 'student_id': '713228',\n",
       " 'subjects': ['test',\n",
       "  'test2',\n",
       "  {'952': (64, 'P')},\n",
       "  {'952': (64, 'P')},\n",
       "  {'751': (89, 'HD')},\n",
       "  {'751': (89, 'HD')},\n",
       "  {'520': (82, 'D')},\n",
       "  {'600': (44, 'F')},\n",
       "  {'884': (75, 'D')},\n",
       "  {'727': (80, 'D')},\n",
       "  {'966': (65, 'C')},\n",
       "  {'437': (95, 'HD')}]}"
      ]
     },
     "execution_count": 69,
     "metadata": {},
     "output_type": "execute_result"
    }
   ],
   "source": [
    "subjects = {}\n",
    "subjects[Gen_SubjectID()] = Gen_Results()\n",
    "test['subjects'].append(subjects)\n",
    "test"
   ]
  },
  {
   "cell_type": "code",
   "execution_count": 70,
   "id": "00b0c19c-543e-401f-ad31-7dd8bf9c0038",
   "metadata": {},
   "outputs": [
    {
     "data": {
      "text/plain": [
       "12"
      ]
     },
     "execution_count": 70,
     "metadata": {},
     "output_type": "execute_result"
    }
   ],
   "source": [
    "len(test['subjects'])"
   ]
  },
  {
   "cell_type": "code",
   "execution_count": null,
   "id": "33a7cd22-25e3-40a5-858b-9256aadf375a",
   "metadata": {},
   "outputs": [],
   "source": []
  }
 ],
 "metadata": {
  "kernelspec": {
   "display_name": "Python 3 (ipykernel)",
   "language": "python",
   "name": "python3"
  },
  "language_info": {
   "codemirror_mode": {
    "name": "ipython",
    "version": 3
   },
   "file_extension": ".py",
   "mimetype": "text/x-python",
   "name": "python",
   "nbconvert_exporter": "python",
   "pygments_lexer": "ipython3",
   "version": "3.9.12"
  }
 },
 "nbformat": 4,
 "nbformat_minor": 5
}

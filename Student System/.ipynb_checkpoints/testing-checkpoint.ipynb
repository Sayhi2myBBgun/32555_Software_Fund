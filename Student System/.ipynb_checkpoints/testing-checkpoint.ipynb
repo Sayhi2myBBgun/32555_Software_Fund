{
 "cells": [
  {
   "cell_type": "code",
   "execution_count": 84,
   "id": "7c566763-3d86-4cd9-856e-84db24789945",
   "metadata": {},
   "outputs": [],
   "source": [
    "import random\n",
    "import os\n",
    "import json"
   ]
  },
  {
   "cell_type": "code",
   "execution_count": 144,
   "id": "1c09a1b5-b38f-405a-9733-be80b6bd0424",
   "metadata": {},
   "outputs": [],
   "source": [
    "class SubjectClass():\n",
    "\n",
    "    def Gen_SubjectID(self):\n",
    "        \n",
    "        number = random.randint(1,999)\n",
    "        formatted_id = f\"{number:03d}\"\n",
    "        return(formatted_id)\n",
    "    \n",
    "    def Gen_Results(self):\n",
    "        # Generate Marks + Grade in same function\n",
    "        mark = random.randint(25,100)\n",
    "        if mark <= 49:\n",
    "            grade = 'F'\n",
    "        elif mark >= 50 and mark <= 64:\n",
    "            grade = 'P'\n",
    "        elif mark >= 65 and mark <= 74:\n",
    "            grade = 'C'\n",
    "        elif mark >= 75 and mark <= 84:\n",
    "            grade = 'D'\n",
    "        elif mark > 85:\n",
    "            grade = 'HD'\n",
    "        \n",
    "        return mark, grade\n"
   ]
  },
  {
   "cell_type": "code",
   "execution_count": 155,
   "id": "bde96dbb-95a8-40a5-8018-c4b06eb5f0e9",
   "metadata": {},
   "outputs": [
    {
     "name": "stdout",
     "output_type": "stream",
     "text": [
      "Checking if 'students.data' exists...\n",
      "File 'student-Copy1.data'exists.\n"
     ]
    }
   ],
   "source": [
    "class DataBase:\n",
    "    def __init__(self, filename=\"student-Copy1.data\"):\n",
    "        self.filename = filename\n",
    "        self.check_and_create_file()\n",
    "\n",
    "    def check_and_create_file(self):\n",
    "        print(\"Checking if 'students.data' exists...\")\n",
    "        if not os.path.exists(self.filename):\n",
    "            with open(self.filename, 'w') as file:\n",
    "                file.write(\"\")  # Create an empty file\n",
    "            print(f\"File '{self.filename}' created.\")\n",
    "        else:\n",
    "            print(f\"File '{self.filename}'exists.\")\n",
    "\n",
    "    def write(self, txt):\n",
    "        with open(self.filename, 'w') as fileHandler:\n",
    "            json.dump(txt, fileHandler, indent=2)\n",
    "        print(f\"Data written to {self.filename}\")\n",
    "\n",
    "    def read(self):\n",
    "        try:\n",
    "            with open(self.filename, 'r') as fileHandler:\n",
    "                if os.stat(self.filename).st_size == 0:  # Check if the file is empty\n",
    "                    print(\"File is empty.\")\n",
    "                    return None\n",
    "                json_obj = json.load(fileHandler)\n",
    "                # print(json.dumps(json_obj, indent=4))\n",
    "                return json_obj\n",
    "        except json.JSONDecodeError:\n",
    "            print(\"Error: File contains invalid JSON.\")\n",
    "        except FileNotFoundError:\n",
    "            print(f\"File '{self.filename}' does not exist.\")\n",
    "        except Exception as e:\n",
    "            print(f\"An error occurred: {e}\")\n",
    "\n",
    "# Usage\n",
    "db = DataBase()"
   ]
  },
  {
   "cell_type": "code",
   "execution_count": 156,
   "id": "f9e8d6a0-9d5d-42aa-ae94-97b1768df326",
   "metadata": {},
   "outputs": [],
   "source": [
    "students = db.read()"
   ]
  },
  {
   "cell_type": "code",
   "execution_count": 157,
   "id": "79cd4110-a400-4e52-8586-781c4802428b",
   "metadata": {},
   "outputs": [
    {
     "data": {
      "text/plain": [
       "{'students': {'jialing.huang@university.com': {'first_name': 'jialing',\n",
       "   'last_name': 'huang',\n",
       "   'email': 'jialing.huang@university.com',\n",
       "   'password': 'Helloworld123',\n",
       "   'student_id': '787244'},\n",
       "  'john.smith@university.com': {'first_name': 'john',\n",
       "   'last_name': 'smith',\n",
       "   'email': 'john.smith@university.com',\n",
       "   'password': 'Helloworld123',\n",
       "   'student_id': '227569'},\n",
       "  'alen.jones@university.com': {'first_name': 'alen',\n",
       "   'last_name': 'jones',\n",
       "   'email': 'alen.jones@university.com',\n",
       "   'password': 'Helloworld123',\n",
       "   'student_id': '713228'}},\n",
       " 'used_ids': [227569, 787244, 713228]}"
      ]
     },
     "execution_count": 157,
     "metadata": {},
     "output_type": "execute_result"
    }
   ],
   "source": [
    "students"
   ]
  },
  {
   "cell_type": "code",
   "execution_count": 177,
   "id": "438a3ad5-d1dc-4e13-9b27-f6369e965944",
   "metadata": {},
   "outputs": [],
   "source": [
    "def Gen_SubjectID():\n",
    "    \n",
    "    number = random.randint(1,999)\n",
    "    formatted_id = f\"{number:03d}\"\n",
    "    return(formatted_id)\n",
    "\n",
    "def Gen_Results():\n",
    "    # Generate Marks + Grade in same function\n",
    "    mark = random.randint(25,100)\n",
    "    if mark <= 49:\n",
    "        grade = 'F'\n",
    "    elif mark >= 50 and mark <= 64:\n",
    "        grade = 'P'\n",
    "    elif mark >= 65 and mark <= 74:\n",
    "        grade = 'C'\n",
    "    elif mark >= 75 and mark <= 84:\n",
    "        grade = 'D'\n",
    "    elif mark > 85:\n",
    "        grade = 'HD'\n",
    "    \n",
    "    return mark, grade"
   ]
  },
  {
   "cell_type": "code",
   "execution_count": 178,
   "id": "344892a4-3c39-4ef9-84b0-19fad8e0b4dd",
   "metadata": {},
   "outputs": [],
   "source": [
    "test = students['students']['alen.jones@university.com']"
   ]
  },
  {
   "cell_type": "code",
   "execution_count": 214,
   "id": "1ee94387-69e9-4f56-86f0-8f589f9c73f0",
   "metadata": {},
   "outputs": [],
   "source": [
    "test['subjects'] = []"
   ]
  },
  {
   "cell_type": "code",
   "execution_count": 215,
   "id": "37ff58e0-25ab-499e-9a63-153bfb333cca",
   "metadata": {},
   "outputs": [],
   "source": [
    "test = students['students']['alen.jones@university.com']"
   ]
  },
  {
   "cell_type": "code",
   "execution_count": 221,
   "id": "92478f8d-c837-47f4-94ac-a920131f051c",
   "metadata": {},
   "outputs": [
    {
     "data": {
      "text/plain": [
       "{'first_name': 'alen',\n",
       " 'last_name': 'jones',\n",
       " 'email': 'alen.jones@university.com',\n",
       " 'password': 'Helloworld123',\n",
       " 'student_id': '713228',\n",
       " 'subjects': [{'615': (93, 'HD')}, {'306': (79, 'D')}]}"
      ]
     },
     "execution_count": 221,
     "metadata": {},
     "output_type": "execute_result"
    }
   ],
   "source": [
    "subjects = {}\n",
    "subjects[Gen_SubjectID()] = Gen_Results()\n",
    "test['subjects'].append(subjects)\n",
    "test"
   ]
  },
  {
   "cell_type": "code",
   "execution_count": 222,
   "id": "2200c3c1-1b5e-4173-92cd-e71596bf2fd0",
   "metadata": {},
   "outputs": [
    {
     "data": {
      "text/plain": [
       "2"
      ]
     },
     "execution_count": 222,
     "metadata": {},
     "output_type": "execute_result"
    }
   ],
   "source": [
    "len(test['subjects'])"
   ]
  },
  {
   "cell_type": "code",
   "execution_count": 223,
   "id": "87a7b18f-7a96-496b-8490-8f8e015d38b1",
   "metadata": {},
   "outputs": [
    {
     "data": {
      "text/plain": [
       "[{'615': (93, 'HD')}, {'306': (79, 'D')}]"
      ]
     },
     "execution_count": 223,
     "metadata": {},
     "output_type": "execute_result"
    }
   ],
   "source": [
    "test['subjects']"
   ]
  },
  {
   "cell_type": "code",
   "execution_count": 160,
   "id": "9afe53c5-1370-44ff-8ea7-bce5d0c68b65",
   "metadata": {
    "collapsed": true,
    "jupyter": {
     "outputs_hidden": true
    },
    "tags": []
   },
   "outputs": [
    {
     "data": {
      "text/plain": [
       "{'students': {'jialing.huang@university.com': {'first_name': 'jialing',\n",
       "   'last_name': 'huang',\n",
       "   'email': 'jialing.huang@university.com',\n",
       "   'password': 'Helloworld123',\n",
       "   'student_id': '787244'},\n",
       "  'john.smith@university.com': {'first_name': 'john',\n",
       "   'last_name': 'smith',\n",
       "   'email': 'john.smith@university.com',\n",
       "   'password': 'Helloworld123',\n",
       "   'student_id': '227569'},\n",
       "  'alen.jones@university.com': {'first_name': 'alen',\n",
       "   'last_name': 'jones',\n",
       "   'email': 'alen.jones@university.com',\n",
       "   'password': 'Helloworld123',\n",
       "   'student_id': '713228'}},\n",
       " 'used_ids': [227569, 787244, 713228]}"
      ]
     },
     "execution_count": 160,
     "metadata": {},
     "output_type": "execute_result"
    }
   ],
   "source": [
    "db.read()"
   ]
  },
  {
   "cell_type": "code",
   "execution_count": 287,
   "id": "33a7cd22-25e3-40a5-858b-9256aadf375a",
   "metadata": {
    "tags": []
   },
   "outputs": [],
   "source": [
    "class Backend():\n",
    "    \"Needs 'db' DataBase object to perform get_count function\"\n",
    "\n",
    "    def __init__(self, email):\n",
    "        self.filename = 'students-Copy1.data'\n",
    "        self.db = DataBase()\n",
    "        students = self.db.read()\n",
    "        self.student_file = students['students'][email]\n",
    "\n",
    "    @staticmethod\n",
    "    def print_col(text, colour):\n",
    "        colours = {\n",
    "            'blue': '\\033[96m',   # Blue\n",
    "            'yellow': '\\033[93m', # Yellow\n",
    "            'red': '\\033[91m',    # Red\n",
    "            'end': '\\033[0m',\n",
    "        }\n",
    "        \n",
    "        colour_code = colours.get(colour, colours['end'])\n",
    "        print(f\"{colour_code}{text}{colours['end']}\")\n",
    "\n",
    "    @staticmethod\n",
    "    def standard_user_input():\n",
    "        Backend.print_col(\"Student Course Menu (c/e/r/s/x):\", 'blue') \n",
    "        user_input = input()\n",
    "        return user_input\n",
    "    \n",
    "    def get_count(self):\n",
    "        contents = self.db.read()\n",
    "        return len(contents)  \n",
    "    \n",
    "    @staticmethod\n",
    "    def update_password():\n",
    "        new_password = input(\"New Password:\")\n",
    "        confirm_password = input(\"Confirm Password:\")\n",
    "        \n",
    "        while confirm_password != new_password:\n",
    "            Backend.print_col(\"Password does not match - try again\", \"red\")   \n",
    "            confirm_password = input(\"Confirm Password:\")\n",
    "    \n",
    "    def show(self):\n",
    "        subject_count = Backend.get_count(self)\n",
    "        contents = self.db.read()\n",
    "        if subject_count > 0:\n",
    "            Backend.print_col(f\"Showing {subject_count} subjects\", \"yellow\")\n",
    "\n",
    "            for line in contents:\n",
    "                subject_id, mark, grade = line.strip().split(',')\n",
    "                print(f\"Subject::{subject_id} -- mark = {mark} -- grade = {grade}\")\n",
    "            user_input = Backend.standard_user_input()\n",
    "            return user_input\n",
    "        else:\n",
    "            Backend.print_col(\"No subjects currently enrolled.\", \"red\") # Error Handling\n",
    "            user_input = Backend.standard_user_input()\n",
    "            return user_input\n",
    "    \n",
    "    def removal(self):\n",
    "        while True:\n",
    "            subject = str(input(\"Remove Subject by ID: \"))\n",
    "            if subject.lower() == 'b':\n",
    "                return  # Exit the function and return to the main menu immediately\n",
    "\n",
    "            contents = self.db.read()\n",
    "            # Check if the subject is listed\n",
    "            if any(line.startswith(subject + \",\") for line in contents):\n",
    "                Backend.print_col(f\"Dropping Subject-{subject}\", \"yellow\")\n",
    "                # Remove subject line from file\n",
    "                new_contents = [line for line in contents if not line.strip().startswith(subject + \",\")]\n",
    "            \n",
    "                with open(self.db.filename, 'w') as file:\n",
    "                    for line in new_contents:\n",
    "                        file.writelines(line)\n",
    "                Backend.print_col(f\"You are now enrolled in {len(new_contents)} out of 4 subjects\", \"yellow\")\n",
    "                return\n",
    "            else:\n",
    "                Backend.print_col(f\"Error: Subject-{subject} is not in subject list. Available subjects are:\", \"red\")\n",
    "                for line in contents:\n",
    "                    subject_id = line.split(',')[0]\n",
    "                    print(f\" - Subject: {subject_id}\")\n",
    "                Backend.print_col(f\"Or press 'b' to go back to menu\", \"red\")\n",
    "    \n",
    "    def enrollment(self):\n",
    "        subject_count = Backend.get_count(self)\n",
    "        if subject_count >= 4: # Error Handling\n",
    "            Backend.print_col(\"Students are allowed to enrol in 4 subjects only\", \"red\")\n",
    "            user_input = Backend.standard_user_input()\n",
    "        else:\n",
    "            subject_id = SubjectClass.Gen_SubjectID(self)\n",
    "            mark, grade = SubjectClass.Gen_Results(self)\n",
    "            Backend.print_col(f\"Enrolling in Subject-{subject_id}\", \"yellow\")\n",
    "            \n",
    "            if 'subjects' not in be.student_file.keys():\n",
    "                data = {'subjects': []}\n",
    "                print('passed')\n",
    "            else:\n",
    "                print('data there')\n",
    "            # Add new subject information\n",
    "            subjects = {'id': subject_id, 'mark': mark, 'grade': grade}\n",
    "            print(data)\n",
    "            print('test')\n",
    "            data['subjects'].append(subjects)\n",
    "            \n",
    "            self.db.write(data) # need to integrate it here\n",
    "\n",
    "            subject_count = Backend.get_count(self)\n",
    "            Backend.print_col(f\"You are now enrolled in {subject_count} out of 4 subjects\", \"yellow\")\n",
    "            user_input = Backend.standard_user_input()\n",
    "\n",
    "        return user_input"
   ]
  },
  {
   "cell_type": "code",
   "execution_count": 288,
   "id": "69d6a965-6638-4bcd-806b-395d1ef10d60",
   "metadata": {},
   "outputs": [
    {
     "name": "stdout",
     "output_type": "stream",
     "text": [
      "\u001b[93mEnrolling in Subject-494\u001b[0m\n"
     ]
    },
    {
     "ename": "KeyError",
     "evalue": "'subjects'",
     "output_type": "error",
     "traceback": [
      "\u001b[1;31m---------------------------------------------------------------------------\u001b[0m",
      "\u001b[1;31mKeyError\u001b[0m                                  Traceback (most recent call last)",
      "Cell \u001b[1;32mIn[288], line 1\u001b[0m\n\u001b[1;32m----> 1\u001b[0m \u001b[43mbe\u001b[49m\u001b[38;5;241;43m.\u001b[39;49m\u001b[43menrollment\u001b[49m\u001b[43m(\u001b[49m\u001b[43m)\u001b[49m\n",
      "Cell \u001b[1;32mIn[233], line 98\u001b[0m, in \u001b[0;36mBackend.enrollment\u001b[1;34m(self)\u001b[0m\n\u001b[0;32m     96\u001b[0m \u001b[38;5;66;03m# Add new subject information\u001b[39;00m\n\u001b[0;32m     97\u001b[0m subjects \u001b[38;5;241m=\u001b[39m {\u001b[38;5;124m'\u001b[39m\u001b[38;5;124mid\u001b[39m\u001b[38;5;124m'\u001b[39m: subject_id, \u001b[38;5;124m'\u001b[39m\u001b[38;5;124mmark\u001b[39m\u001b[38;5;124m'\u001b[39m: mark, \u001b[38;5;124m'\u001b[39m\u001b[38;5;124mgrade\u001b[39m\u001b[38;5;124m'\u001b[39m: grade}\n\u001b[1;32m---> 98\u001b[0m \u001b[43mdata\u001b[49m\u001b[43m[\u001b[49m\u001b[38;5;124;43m'\u001b[39;49m\u001b[38;5;124;43msubjects\u001b[39;49m\u001b[38;5;124;43m'\u001b[39;49m\u001b[43m]\u001b[49m\u001b[38;5;241m.\u001b[39mappend(subjects)\n\u001b[0;32m    100\u001b[0m \u001b[38;5;28mself\u001b[39m\u001b[38;5;241m.\u001b[39mdb\u001b[38;5;241m.\u001b[39mwrite(data) \u001b[38;5;66;03m# need to integrate it here\u001b[39;00m\n\u001b[0;32m    102\u001b[0m subject_count \u001b[38;5;241m=\u001b[39m Backend\u001b[38;5;241m.\u001b[39mget_count(\u001b[38;5;28mself\u001b[39m)\n",
      "\u001b[1;31mKeyError\u001b[0m: 'subjects'"
     ]
    }
   ],
   "source": [
    "be.enrollment()"
   ]
  },
  {
   "cell_type": "code",
   "execution_count": 278,
   "id": "821b5d23-6166-44c8-a642-06a6d5b65623",
   "metadata": {},
   "outputs": [],
   "source": [
    "subject_id = Gen_SubjectID()\n",
    "mark, grade =Gen_Results()\n",
    "data = {'subjects': []}\n",
    "\n",
    "# Add new subject information\n",
    "subjects = {'id': subject_id, 'mark': mark, 'grade': grade}\n",
    "data['subjects'].append(subjects)"
   ]
  },
  {
   "cell_type": "code",
   "execution_count": 279,
   "id": "7134cb00-802a-4284-b69d-e3acdd540f28",
   "metadata": {},
   "outputs": [
    {
     "name": "stdout",
     "output_type": "stream",
     "text": [
      "passed\n"
     ]
    }
   ],
   "source": [
    "if 'subjects' not in be.student_file.keys():\n",
    "    data = {'subjects': []}\n",
    "    print('passed')        "
   ]
  },
  {
   "cell_type": "code",
   "execution_count": 280,
   "id": "3002c0a5-be9f-4bfb-923b-8a3d427b73bc",
   "metadata": {},
   "outputs": [
    {
     "data": {
      "text/plain": [
       "{'subjects': ['teetee']}"
      ]
     },
     "execution_count": 280,
     "metadata": {},
     "output_type": "execute_result"
    }
   ],
   "source": [
    "data['subjects'].append('teetee')\n",
    "data"
   ]
  },
  {
   "cell_type": "code",
   "execution_count": 281,
   "id": "66c7a811-8d2a-46ed-a5ab-e73a8676d09f",
   "metadata": {},
   "outputs": [
    {
     "data": {
      "text/plain": [
       "{'first_name': 'alen',\n",
       " 'last_name': 'jones',\n",
       " 'email': 'alen.jones@university.com',\n",
       " 'password': 'Helloworld123',\n",
       " 'student_id': '713228'}"
      ]
     },
     "execution_count": 281,
     "metadata": {},
     "output_type": "execute_result"
    }
   ],
   "source": [
    "be.student_file"
   ]
  },
  {
   "cell_type": "code",
   "execution_count": 234,
   "id": "58ccb5ae-18a2-4261-be81-f2f4d78dcc7a",
   "metadata": {
    "tags": []
   },
   "outputs": [
    {
     "data": {
      "text/plain": [
       "{'students': {'jialing.huang@university.com': {'first_name': 'jialing',\n",
       "   'last_name': 'huang',\n",
       "   'email': 'jialing.huang@university.com',\n",
       "   'password': 'Helloworld123',\n",
       "   'student_id': '787244'},\n",
       "  'john.smith@university.com': {'first_name': 'john',\n",
       "   'last_name': 'smith',\n",
       "   'email': 'john.smith@university.com',\n",
       "   'password': 'Helloworld123',\n",
       "   'student_id': '227569'},\n",
       "  'alen.jones@university.com': {'first_name': 'alen',\n",
       "   'last_name': 'jones',\n",
       "   'email': 'alen.jones@university.com',\n",
       "   'password': 'Helloworld123',\n",
       "   'student_id': '713228'}},\n",
       " 'used_ids': [227569, 787244, 713228]}"
      ]
     },
     "execution_count": 234,
     "metadata": {},
     "output_type": "execute_result"
    }
   ],
   "source": [
    "db.read()"
   ]
  },
  {
   "cell_type": "code",
   "execution_count": 235,
   "id": "f53b2d4d-b925-49f4-97b6-a834fda8f7b6",
   "metadata": {},
   "outputs": [],
   "source": [
    "email = 'alen.jones@university.com'"
   ]
  },
  {
   "cell_type": "code",
   "execution_count": 236,
   "id": "7d712e5b-420e-466b-821b-d789eef11c8e",
   "metadata": {
    "jupyter": {
     "source_hidden": true
    },
    "tags": []
   },
   "outputs": [
    {
     "name": "stdout",
     "output_type": "stream",
     "text": [
      "Checking if 'students.data' exists...\n",
      "File 'student-Copy1.data'exists.\n"
     ]
    }
   ],
   "source": [
    "be = Backend(email)"
   ]
  },
  {
   "cell_type": "code",
   "execution_count": 237,
   "id": "e87da762-e351-4028-bed2-66a6cce7b41b",
   "metadata": {},
   "outputs": [
    {
     "data": {
      "text/plain": [
       "2"
      ]
     },
     "execution_count": 237,
     "metadata": {},
     "output_type": "execute_result"
    }
   ],
   "source": [
    "be.get_count()"
   ]
  },
  {
   "cell_type": "code",
   "execution_count": 238,
   "id": "e66213f3-ca7f-46d3-a0f2-b4c4c2f24826",
   "metadata": {
    "tags": []
   },
   "outputs": [
    {
     "data": {
      "text/plain": [
       "{'students': {'jialing.huang@university.com': {'first_name': 'jialing',\n",
       "   'last_name': 'huang',\n",
       "   'email': 'jialing.huang@university.com',\n",
       "   'password': 'Helloworld123',\n",
       "   'student_id': '787244'},\n",
       "  'john.smith@university.com': {'first_name': 'john',\n",
       "   'last_name': 'smith',\n",
       "   'email': 'john.smith@university.com',\n",
       "   'password': 'Helloworld123',\n",
       "   'student_id': '227569'},\n",
       "  'alen.jones@university.com': {'first_name': 'alen',\n",
       "   'last_name': 'jones',\n",
       "   'email': 'alen.jones@university.com',\n",
       "   'password': 'Helloworld123',\n",
       "   'student_id': '713228'}},\n",
       " 'used_ids': [227569, 787244, 713228]}"
      ]
     },
     "execution_count": 238,
     "metadata": {},
     "output_type": "execute_result"
    }
   ],
   "source": [
    "db.read()"
   ]
  },
  {
   "cell_type": "code",
   "execution_count": 239,
   "id": "86dffb1e-b03e-47f1-a6db-fb8b227f84a4",
   "metadata": {
    "tags": []
   },
   "outputs": [
    {
     "data": {
      "text/plain": [
       "{'first_name': 'alen',\n",
       " 'last_name': 'jones',\n",
       " 'email': 'alen.jones@university.com',\n",
       " 'password': 'Helloworld123',\n",
       " 'student_id': '713228'}"
      ]
     },
     "execution_count": 239,
     "metadata": {},
     "output_type": "execute_result"
    }
   ],
   "source": [
    "be.student_file"
   ]
  },
  {
   "cell_type": "code",
   "execution_count": 241,
   "id": "b52d502e-2ac0-48a1-b9b2-50a9e974352e",
   "metadata": {},
   "outputs": [],
   "source": [
    "class StuCourseSys():\n",
    "\n",
    "    def __init__(self, email):\n",
    "\n",
    "        self.db = DataBase()\n",
    "        self.be = Backend(email)\n",
    "        self.contents = self.db.read()\n",
    "        self.user_input = self.be.standard_user_input()\n",
    "        self.correct_inputs = ['x', 'c', 'e', 'r', 's']\n",
    "\n",
    "    def main(self):\n",
    "\n",
    "        while self.user_input != 'x':\n",
    "            \n",
    "            if self.user_input == 'c': # Changing Subject\n",
    "                self.be.print_col(\"Updating Password\", \"yellow\")\n",
    "                self.be.update_password()\n",
    "                self.user_input = self.be.standard_user_input()\n",
    "                \n",
    "            elif self.user_input == 'e': # Enrollment \n",
    "                self.user_input = self.be.enrollment()\n",
    "                    \n",
    "            elif self.user_input == 'r':  # Removing Subject\n",
    "                self.be.removal()\n",
    "                self.user_input = self.be.standard_user_input()\n",
    "                    \n",
    "            elif self.user_input == 's': # Showing subjects\n",
    "                self.user_input = self.be.show()\n",
    "\n",
    "            elif self.user_input not in self.correct_inputs: # Error Handling\n",
    "                be.print_col(f\"Input {self.user_input} not a valid input. Try again...\", \"red\") \n",
    "                self.user_input = self.be.standard_user_input()"
   ]
  },
  {
   "cell_type": "code",
   "execution_count": 242,
   "id": "605456fe-9c30-4200-a271-4fa5880c875f",
   "metadata": {},
   "outputs": [
    {
     "name": "stdout",
     "output_type": "stream",
     "text": [
      "Checking if 'students.data' exists...\n",
      "File 'student-Copy1.data'exists.\n",
      "Checking if 'students.data' exists...\n",
      "File 'student-Copy1.data'exists.\n",
      "\u001b[96mStudent Course Menu (c/e/r/s/x):\u001b[0m\n"
     ]
    },
    {
     "name": "stdin",
     "output_type": "stream",
     "text": [
      " e\n"
     ]
    },
    {
     "name": "stdout",
     "output_type": "stream",
     "text": [
      "\u001b[93mEnrolling in Subject-509\u001b[0m\n"
     ]
    },
    {
     "ename": "KeyError",
     "evalue": "'subjects'",
     "output_type": "error",
     "traceback": [
      "\u001b[1;31m---------------------------------------------------------------------------\u001b[0m",
      "\u001b[1;31mKeyError\u001b[0m                                  Traceback (most recent call last)",
      "Cell \u001b[1;32mIn[242], line 3\u001b[0m\n\u001b[0;32m      1\u001b[0m \u001b[38;5;28;01mif\u001b[39;00m \u001b[38;5;18m__name__\u001b[39m \u001b[38;5;241m==\u001b[39m \u001b[38;5;124m\"\u001b[39m\u001b[38;5;124m__main__\u001b[39m\u001b[38;5;124m\"\u001b[39m:\n\u001b[0;32m      2\u001b[0m     system \u001b[38;5;241m=\u001b[39m StuCourseSys(email)\n\u001b[1;32m----> 3\u001b[0m     \u001b[43msystem\u001b[49m\u001b[38;5;241;43m.\u001b[39;49m\u001b[43mmain\u001b[49m\u001b[43m(\u001b[49m\u001b[43m)\u001b[49m\n",
      "Cell \u001b[1;32mIn[241], line 21\u001b[0m, in \u001b[0;36mStuCourseSys.main\u001b[1;34m(self)\u001b[0m\n\u001b[0;32m     18\u001b[0m     \u001b[38;5;28mself\u001b[39m\u001b[38;5;241m.\u001b[39muser_input \u001b[38;5;241m=\u001b[39m \u001b[38;5;28mself\u001b[39m\u001b[38;5;241m.\u001b[39mbe\u001b[38;5;241m.\u001b[39mstandard_user_input()\n\u001b[0;32m     20\u001b[0m \u001b[38;5;28;01melif\u001b[39;00m \u001b[38;5;28mself\u001b[39m\u001b[38;5;241m.\u001b[39muser_input \u001b[38;5;241m==\u001b[39m \u001b[38;5;124m'\u001b[39m\u001b[38;5;124me\u001b[39m\u001b[38;5;124m'\u001b[39m: \u001b[38;5;66;03m# Enrollment \u001b[39;00m\n\u001b[1;32m---> 21\u001b[0m     \u001b[38;5;28mself\u001b[39m\u001b[38;5;241m.\u001b[39muser_input \u001b[38;5;241m=\u001b[39m \u001b[38;5;28;43mself\u001b[39;49m\u001b[38;5;241;43m.\u001b[39;49m\u001b[43mbe\u001b[49m\u001b[38;5;241;43m.\u001b[39;49m\u001b[43menrollment\u001b[49m\u001b[43m(\u001b[49m\u001b[43m)\u001b[49m\n\u001b[0;32m     23\u001b[0m \u001b[38;5;28;01melif\u001b[39;00m \u001b[38;5;28mself\u001b[39m\u001b[38;5;241m.\u001b[39muser_input \u001b[38;5;241m==\u001b[39m \u001b[38;5;124m'\u001b[39m\u001b[38;5;124mr\u001b[39m\u001b[38;5;124m'\u001b[39m:  \u001b[38;5;66;03m# Removing Subject\u001b[39;00m\n\u001b[0;32m     24\u001b[0m     \u001b[38;5;28mself\u001b[39m\u001b[38;5;241m.\u001b[39mbe\u001b[38;5;241m.\u001b[39mremoval()\n",
      "Cell \u001b[1;32mIn[233], line 98\u001b[0m, in \u001b[0;36mBackend.enrollment\u001b[1;34m(self)\u001b[0m\n\u001b[0;32m     96\u001b[0m \u001b[38;5;66;03m# Add new subject information\u001b[39;00m\n\u001b[0;32m     97\u001b[0m subjects \u001b[38;5;241m=\u001b[39m {\u001b[38;5;124m'\u001b[39m\u001b[38;5;124mid\u001b[39m\u001b[38;5;124m'\u001b[39m: subject_id, \u001b[38;5;124m'\u001b[39m\u001b[38;5;124mmark\u001b[39m\u001b[38;5;124m'\u001b[39m: mark, \u001b[38;5;124m'\u001b[39m\u001b[38;5;124mgrade\u001b[39m\u001b[38;5;124m'\u001b[39m: grade}\n\u001b[1;32m---> 98\u001b[0m \u001b[43mdata\u001b[49m\u001b[43m[\u001b[49m\u001b[38;5;124;43m'\u001b[39;49m\u001b[38;5;124;43msubjects\u001b[39;49m\u001b[38;5;124;43m'\u001b[39;49m\u001b[43m]\u001b[49m\u001b[38;5;241m.\u001b[39mappend(subjects)\n\u001b[0;32m    100\u001b[0m \u001b[38;5;28mself\u001b[39m\u001b[38;5;241m.\u001b[39mdb\u001b[38;5;241m.\u001b[39mwrite(data) \u001b[38;5;66;03m# need to integrate it here\u001b[39;00m\n\u001b[0;32m    102\u001b[0m subject_count \u001b[38;5;241m=\u001b[39m Backend\u001b[38;5;241m.\u001b[39mget_count(\u001b[38;5;28mself\u001b[39m)\n",
      "\u001b[1;31mKeyError\u001b[0m: 'subjects'"
     ]
    }
   ],
   "source": [
    "if __name__ == \"__main__\":\n",
    "    system = StuCourseSys(email)\n",
    "    system.main()"
   ]
  },
  {
   "cell_type": "code",
   "execution_count": 154,
   "id": "3f16ba47-8fcd-4e37-9af0-759c3623202d",
   "metadata": {},
   "outputs": [
    {
     "data": {
      "text/plain": [
       "{'first_name': 'alen',\n",
       " 'last_name': 'jones',\n",
       " 'email': 'alen.jones@university.com',\n",
       " 'password': 'Helloworld123',\n",
       " 'student_id': '713228'}"
      ]
     },
     "execution_count": 154,
     "metadata": {},
     "output_type": "execute_result"
    }
   ],
   "source": [
    "students['students']['alen.jones@university.com']"
   ]
  },
  {
   "cell_type": "code",
   "execution_count": null,
   "id": "19d6d8fb-fc08-4f8a-ac86-b43c00ea9902",
   "metadata": {},
   "outputs": [],
   "source": []
  }
 ],
 "metadata": {
  "kernelspec": {
   "display_name": "Python 3 (ipykernel)",
   "language": "python",
   "name": "python3"
  },
  "language_info": {
   "codemirror_mode": {
    "name": "ipython",
    "version": 3
   },
   "file_extension": ".py",
   "mimetype": "text/x-python",
   "name": "python",
   "nbconvert_exporter": "python",
   "pygments_lexer": "ipython3",
   "version": "3.9.12"
  }
 },
 "nbformat": 4,
 "nbformat_minor": 5
}

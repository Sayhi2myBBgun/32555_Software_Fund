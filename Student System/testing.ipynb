{
 "cells": [
  {
   "cell_type": "code",
   "execution_count": 1,
   "id": "7c566763-3d86-4cd9-856e-84db24789945",
   "metadata": {},
   "outputs": [],
   "source": [
    "import random\n",
    "import os\n",
    "import json"
   ]
  },
  {
   "cell_type": "code",
   "execution_count": 2,
   "id": "1c09a1b5-b38f-405a-9733-be80b6bd0424",
   "metadata": {},
   "outputs": [],
   "source": [
    "class SubjectClass():\n",
    "\n",
    "    def Gen_SubjectID(self):\n",
    "        \n",
    "        number = random.randint(1,999)\n",
    "        formatted_id = f\"{number:03d}\"\n",
    "        return(formatted_id)\n",
    "    \n",
    "    def Gen_Results(self):\n",
    "        # Generate Marks + Grade in same function\n",
    "        mark = random.randint(25,100)\n",
    "        if mark <= 49:\n",
    "            grade = 'F'\n",
    "        elif mark >= 50 and mark <= 64:\n",
    "            grade = 'P'\n",
    "        elif mark >= 65 and mark <= 74:\n",
    "            grade = 'C'\n",
    "        elif mark >= 75 and mark <= 84:\n",
    "            grade = 'D'\n",
    "        elif mark > 85:\n",
    "            grade = 'HD'\n",
    "        \n",
    "        return mark, grade\n"
   ]
  },
  {
   "cell_type": "code",
   "execution_count": 3,
   "id": "bde96dbb-95a8-40a5-8018-c4b06eb5f0e9",
   "metadata": {},
   "outputs": [
    {
     "name": "stdout",
     "output_type": "stream",
     "text": [
      "Checking if 'students.data' exists...\n",
      "File 'student-Copy1.data'exists.\n"
     ]
    }
   ],
   "source": [
    "class DataBase:\n",
    "    def __init__(self, filename=\"student-Copy1.data\"):\n",
    "        self.filename = filename\n",
    "        self.check_and_create_file()\n",
    "\n",
    "    def check_and_create_file(self):\n",
    "        print(\"Checking if 'students.data' exists...\")\n",
    "        if not os.path.exists(self.filename):\n",
    "            with open(self.filename, 'w') as file:\n",
    "                file.write(\"\")  # Create an empty file\n",
    "            print(f\"File '{self.filename}' created.\")\n",
    "        else:\n",
    "            print(f\"File '{self.filename}'exists.\")\n",
    "\n",
    "    def write(self, txt):\n",
    "        with open(self.filename, 'w') as fileHandler:\n",
    "            json.dump(txt, fileHandler, indent=2)\n",
    "        # print(f\"Data written to {self.filename}\")\n",
    "\n",
    "    def read(self):\n",
    "        try:\n",
    "            with open(self.filename, 'r') as fileHandler:\n",
    "                if os.stat(self.filename).st_size == 0:  # Check if the file is empty\n",
    "                    print(\"File is empty.\")\n",
    "                    return None\n",
    "                json_obj = json.load(fileHandler)\n",
    "                # print(json.dumps(json_obj, indent=4))\n",
    "                return json_obj\n",
    "        except json.JSONDecodeError:\n",
    "            print(\"Error: File contains invalid JSON.\")\n",
    "        except FileNotFoundError:\n",
    "            print(f\"File '{self.filename}' does not exist.\")\n",
    "        except Exception as e:\n",
    "            print(f\"An error occurred: {e}\")\n",
    "\n",
    "# Usage\n",
    "db = DataBase()"
   ]
  },
  {
   "cell_type": "code",
   "execution_count": 4,
   "id": "f9e8d6a0-9d5d-42aa-ae94-97b1768df326",
   "metadata": {},
   "outputs": [],
   "source": [
    "students = db.read()"
   ]
  },
  {
   "cell_type": "code",
   "execution_count": 5,
   "id": "79cd4110-a400-4e52-8586-781c4802428b",
   "metadata": {
    "tags": []
   },
   "outputs": [
    {
     "data": {
      "text/plain": [
       "{'students': {'jialing.huang@university.com': {'first_name': 'jialing',\n",
       "   'last_name': 'huang',\n",
       "   'email': 'jialing.huang@university.com',\n",
       "   'password': 'Helloworld123',\n",
       "   'student_id': '787244'},\n",
       "  'john.smith@university.com': {'first_name': 'john',\n",
       "   'last_name': 'smith',\n",
       "   'email': 'john.smith@university.com',\n",
       "   'password': 'Helloworld123',\n",
       "   'student_id': '227569'},\n",
       "  'alen.jones@university.com': {'first_name': 'alen',\n",
       "   'last_name': 'jones',\n",
       "   'email': 'alen.jones@university.com',\n",
       "   'password': 'Helloworld123',\n",
       "   'student_id': '713228',\n",
       "   'subjects': [{'subject': '884', 'mark': 48, 'grade': 'F'},\n",
       "    {'subject': '512', 'mark': 25, 'grade': 'F'},\n",
       "    {'subject': '010', 'mark': 31, 'grade': 'F'}]}},\n",
       " 'used_ids': [227569, 787244, 713228]}"
      ]
     },
     "execution_count": 5,
     "metadata": {},
     "output_type": "execute_result"
    }
   ],
   "source": [
    "students"
   ]
  },
  {
   "cell_type": "code",
   "execution_count": 6,
   "id": "438a3ad5-d1dc-4e13-9b27-f6369e965944",
   "metadata": {},
   "outputs": [],
   "source": [
    "def Gen_SubjectID():\n",
    "    \n",
    "    number = random.randint(1,999)\n",
    "    formatted_id = f\"{number:03d}\"\n",
    "    return(formatted_id)\n",
    "\n",
    "def Gen_Results():\n",
    "    # Generate Marks + Grade in same function\n",
    "    mark = random.randint(25,100)\n",
    "    if mark <= 49:\n",
    "        grade = 'F'\n",
    "    elif mark >= 50 and mark <= 64:\n",
    "        grade = 'P'\n",
    "    elif mark >= 65 and mark <= 74:\n",
    "        grade = 'C'\n",
    "    elif mark >= 75 and mark <= 84:\n",
    "        grade = 'D'\n",
    "    elif mark > 85:\n",
    "        grade = 'HD'\n",
    "    \n",
    "    return mark, grade"
   ]
  },
  {
   "cell_type": "code",
   "execution_count": 7,
   "id": "2737f121-c86e-4751-a62b-59d46c24e3dc",
   "metadata": {},
   "outputs": [
    {
     "data": {
      "text/plain": [
       "{'students': {'jialing.huang@university.com': {'first_name': 'jialing',\n",
       "   'last_name': 'huang',\n",
       "   'email': 'jialing.huang@university.com',\n",
       "   'password': 'Helloworld123',\n",
       "   'student_id': '787244'},\n",
       "  'john.smith@university.com': {'first_name': 'john',\n",
       "   'last_name': 'smith',\n",
       "   'email': 'john.smith@university.com',\n",
       "   'password': 'Helloworld123',\n",
       "   'student_id': '227569'},\n",
       "  'alen.jones@university.com': {'first_name': 'alen',\n",
       "   'last_name': 'jones',\n",
       "   'email': 'alen.jones@university.com',\n",
       "   'password': 'Helloworld123',\n",
       "   'student_id': '713228',\n",
       "   'subjects': [{'subject': '884', 'mark': 48, 'grade': 'F'},\n",
       "    {'subject': '512', 'mark': 25, 'grade': 'F'},\n",
       "    {'subject': '010', 'mark': 31, 'grade': 'F'}]}},\n",
       " 'used_ids': [227569, 787244, 713228]}"
      ]
     },
     "execution_count": 7,
     "metadata": {},
     "output_type": "execute_result"
    }
   ],
   "source": [
    "db.read()"
   ]
  },
  {
   "cell_type": "code",
   "execution_count": 18,
   "id": "33a7cd22-25e3-40a5-858b-9256aadf375a",
   "metadata": {
    "tags": []
   },
   "outputs": [],
   "source": [
    "class Backend():\n",
    "    \"Needs 'db' DataBase object to perform get_count function\"\n",
    "\n",
    "    def __init__(self, email):\n",
    "        self.filename = 'student.data'\n",
    "        self.db = DataBase()\n",
    "        self.students = self.db.read()\n",
    "        self.student = email\n",
    "        # self.student_file = students['students'][email]\n",
    "\n",
    "    @staticmethod\n",
    "    def print_col(text, colour):\n",
    "        colours = {\n",
    "            'blue': '\\033[96m',   # Blue\n",
    "            'yellow': '\\033[93m', # Yellow\n",
    "            'red': '\\033[91m',    # Red\n",
    "            'end': '\\033[0m',\n",
    "        }\n",
    "        \n",
    "        colour_code = colours.get(colour, colours['end'])\n",
    "        print(f\"{colour_code}{text}{colours['end']}\")\n",
    "\n",
    "    @staticmethod\n",
    "    def standard_user_input():\n",
    "        Backend.print_col(\"Student Course Menu (c/e/r/s/x):\", 'blue') \n",
    "        user_input = input()\n",
    "        return user_input\n",
    "    \n",
    "    def get_count(self):\n",
    "        return len(self.students['students'][email]['subjects'])\n",
    "    \n",
    "    @staticmethod\n",
    "    def update_password():\n",
    "        new_password = input(\"New Password:\")\n",
    "        confirm_password = input(\"Confirm Password:\")\n",
    "        \n",
    "        while confirm_password != new_password:\n",
    "            Backend.print_col(\"Password does not match - try again\", \"red\")   \n",
    "            confirm_password = input(\"Confirm Password:\")\n",
    "    \n",
    "    def show(self):\n",
    "        data = self.students\n",
    "        subject_count = Backend.get_count(self)\n",
    "        contents = self.db.read()\n",
    "        if subject_count > 0:\n",
    "            Backend.print_col(f\"Showing {subject_count} subjects\", \"yellow\")\n",
    "            subjects = data['students'][email]['subjects']  \n",
    "            for i in range(len(subjects)):\n",
    "                print(f\"  Subject::{subjects[i]['subject']} -- mark = {subjects[i]['mark']} -- grade == {subjects[i]['grade']}\")\n",
    "                \n",
    "            user_input = Backend.standard_user_input()\n",
    "            return user_input\n",
    "        else:\n",
    "            Backend.print_col(\"No subjects currently enrolled.\", \"red\") # Error Handling\n",
    "            user_input = Backend.standard_user_input()\n",
    "            return user_input\n",
    "    \n",
    "    def removal(self):\n",
    "        while True:\n",
    "            subject = str(input(\"Remove Subject by ID: \"))\n",
    "            if subject.lower() == 'b':\n",
    "                return  # Exit the function and return to the main menu immediately\n",
    "\n",
    "            data = self.students\n",
    "            \n",
    "            # Check if the student exists\n",
    "            if 'students' in data and self.student in data['students']:\n",
    "                student_data = data['students'][self.student]\n",
    "\n",
    "                # Check if the subject is listed\n",
    "                subjects = student_data.get('subjects', [])\n",
    "                subject_to_remove = next((s for s in subjects if s['subject'] == subject), None)\n",
    "\n",
    "                if subject_to_remove:\n",
    "                    Backend.print_col(f\"Dropping Subject-{subject}\", \"yellow\")\n",
    "                    # Remove the subject\n",
    "                    subjects.remove(subject_to_remove)\n",
    "\n",
    "                    # Write updated data back to the file\n",
    "                    self.db.write(data)\n",
    "                    Backend.print_col(f\"You are now enrolled in {len(subjects)} out of 4 subjects\", \"yellow\")\n",
    "                    return\n",
    "                else:\n",
    "                    Backend.print_col(f\"Error: Subject-{subject} is not in subject list. Available subjects are:\", \"red\")\n",
    "                    for s in subjects:\n",
    "                        print(f\" - Subject: {s['subject']}\")\n",
    "                    Backend.print_col(f\"Or press 'b' to go back to menu\", \"red\")\n",
    "            else:\n",
    "                Backend.print_col(\"Error: Student data not found.\", \"red\")\n",
    "                return\n",
    "\n",
    "    \n",
    "    def enrollment(self):\n",
    "        subject_count = Backend.get_count(self)\n",
    "        if subject_count >= 4: # Error Handling\n",
    "            Backend.print_col(\"Students are allowed to enrol in 4 subjects only\", \"red\")\n",
    "            user_input = Backend.standard_user_input()\n",
    "        else:\n",
    "            subject_id = SubjectClass.Gen_SubjectID(self)\n",
    "            mark, grade = SubjectClass.Gen_Results(self)\n",
    "            Backend.print_col(f\"Enrolling in Subject-{subject_id}\", \"yellow\")\n",
    "            \n",
    "            # Load student data\n",
    "            data = self.students\n",
    "\n",
    "            if 'subjects' not in data['students'][self.student]:\n",
    "                data['students'][self.student]['subjects'] = []\n",
    "\n",
    "            subjects = {'subject': subject_id, 'mark': mark, 'grade': grade}\n",
    "            data['students'][self.student]['subjects'].append(subjects)\n",
    "\n",
    "            # Write updated data\n",
    "            self.db.write(data)\n",
    "\n",
    "            subject_count = Backend.get_count(self)\n",
    "            Backend.print_col(f\"You are now enrolled in {subject_count} out of 4 subjects\", \"yellow\")\n",
    "            user_input = Backend.standard_user_input()\n",
    "\n",
    "        return user_input"
   ]
  },
  {
   "cell_type": "code",
   "execution_count": 19,
   "id": "362bcb26-15ab-4e18-b8c7-fa44bdb29783",
   "metadata": {},
   "outputs": [],
   "source": [
    "email = 'carm.page@university.com'"
   ]
  },
  {
   "cell_type": "code",
   "execution_count": 20,
   "id": "853eae17-df9b-446c-9f44-621c97c6225a",
   "metadata": {},
   "outputs": [
    {
     "name": "stdout",
     "output_type": "stream",
     "text": [
      "Checking if 'students.data' exists...\n",
      "File 'student-Copy1.data'exists.\n"
     ]
    }
   ],
   "source": [
    "be = Backend(email)"
   ]
  },
  {
   "cell_type": "code",
   "execution_count": 21,
   "id": "5ccd4b25-097b-40e5-ac16-115d7c326141",
   "metadata": {},
   "outputs": [
    {
     "data": {
      "text/plain": [
       "'carm.page@university.com'"
      ]
     },
     "execution_count": 21,
     "metadata": {},
     "output_type": "execute_result"
    }
   ],
   "source": [
    "be.student"
   ]
  },
  {
   "cell_type": "code",
   "execution_count": 46,
   "id": "ec7b902c-d35c-4fc8-a8e3-1709d4e786a5",
   "metadata": {},
   "outputs": [
    {
     "name": "stdin",
     "output_type": "stream",
     "text": [
      "Remove Subject by ID:  324\n"
     ]
    },
    {
     "name": "stdout",
     "output_type": "stream",
     "text": [
      "\u001b[91mError: Subject-324 is not in subject list. Available subjects are:\u001b[0m\n",
      " - Subject: 884\n",
      " - Subject: 512\n",
      " - Subject: 010\n",
      "\u001b[91mOr press 'b' to go back to menu\u001b[0m\n"
     ]
    },
    {
     "name": "stdin",
     "output_type": "stream",
     "text": [
      "Remove Subject by ID:  b\n"
     ]
    }
   ],
   "source": [
    "be.removal()"
   ]
  },
  {
   "cell_type": "code",
   "execution_count": 22,
   "id": "07864580-ebca-41e8-b5ba-064cefbd14d3",
   "metadata": {},
   "outputs": [
    {
     "ename": "KeyError",
     "evalue": "'carm.page@university.com'",
     "output_type": "error",
     "traceback": [
      "\u001b[1;31m---------------------------------------------------------------------------\u001b[0m",
      "\u001b[1;31mKeyError\u001b[0m                                  Traceback (most recent call last)",
      "Cell \u001b[1;32mIn[22], line 1\u001b[0m\n\u001b[1;32m----> 1\u001b[0m \u001b[43mbe\u001b[49m\u001b[38;5;241;43m.\u001b[39;49m\u001b[43mshow\u001b[49m\u001b[43m(\u001b[49m\u001b[43m)\u001b[49m\n",
      "Cell \u001b[1;32mIn[18], line 43\u001b[0m, in \u001b[0;36mBackend.show\u001b[1;34m(self)\u001b[0m\n\u001b[0;32m     41\u001b[0m \u001b[38;5;28;01mdef\u001b[39;00m \u001b[38;5;21mshow\u001b[39m(\u001b[38;5;28mself\u001b[39m):\n\u001b[0;32m     42\u001b[0m     data \u001b[38;5;241m=\u001b[39m \u001b[38;5;28mself\u001b[39m\u001b[38;5;241m.\u001b[39mstudents\n\u001b[1;32m---> 43\u001b[0m     subject_count \u001b[38;5;241m=\u001b[39m \u001b[43mBackend\u001b[49m\u001b[38;5;241;43m.\u001b[39;49m\u001b[43mget_count\u001b[49m\u001b[43m(\u001b[49m\u001b[38;5;28;43mself\u001b[39;49m\u001b[43m)\u001b[49m\n\u001b[0;32m     44\u001b[0m     contents \u001b[38;5;241m=\u001b[39m \u001b[38;5;28mself\u001b[39m\u001b[38;5;241m.\u001b[39mdb\u001b[38;5;241m.\u001b[39mread()\n\u001b[0;32m     45\u001b[0m     \u001b[38;5;28;01mif\u001b[39;00m subject_count \u001b[38;5;241m>\u001b[39m \u001b[38;5;241m0\u001b[39m:\n",
      "Cell \u001b[1;32mIn[18], line 30\u001b[0m, in \u001b[0;36mBackend.get_count\u001b[1;34m(self)\u001b[0m\n\u001b[0;32m     29\u001b[0m \u001b[38;5;28;01mdef\u001b[39;00m \u001b[38;5;21mget_count\u001b[39m(\u001b[38;5;28mself\u001b[39m):\n\u001b[1;32m---> 30\u001b[0m     \u001b[38;5;28;01mreturn\u001b[39;00m \u001b[38;5;28mlen\u001b[39m(\u001b[38;5;28;43mself\u001b[39;49m\u001b[38;5;241;43m.\u001b[39;49m\u001b[43mstudents\u001b[49m\u001b[43m[\u001b[49m\u001b[38;5;124;43m'\u001b[39;49m\u001b[38;5;124;43mstudents\u001b[39;49m\u001b[38;5;124;43m'\u001b[39;49m\u001b[43m]\u001b[49m\u001b[43m[\u001b[49m\u001b[43memail\u001b[49m\u001b[43m]\u001b[49m[\u001b[38;5;124m'\u001b[39m\u001b[38;5;124msubjects\u001b[39m\u001b[38;5;124m'\u001b[39m])\n",
      "\u001b[1;31mKeyError\u001b[0m: 'carm.page@university.com'"
     ]
    }
   ],
   "source": [
    "be.show()"
   ]
  },
  {
   "cell_type": "code",
   "execution_count": 47,
   "id": "226231f1-91fc-47d6-96ab-24a73e68640c",
   "metadata": {},
   "outputs": [
    {
     "name": "stdout",
     "output_type": "stream",
     "text": [
      "\u001b[93mEnrolling in Subject-716\u001b[0m\n",
      "Data written to student-Copy1.data\n",
      "\u001b[93mYou are now enrolled in 4 out of 4 subjects\u001b[0m\n",
      "\u001b[96mStudent Course Menu (c/e/r/s/x):\u001b[0m\n"
     ]
    },
    {
     "name": "stdin",
     "output_type": "stream",
     "text": [
      " e\n"
     ]
    },
    {
     "data": {
      "text/plain": [
       "'e'"
      ]
     },
     "execution_count": 47,
     "metadata": {},
     "output_type": "execute_result"
    }
   ],
   "source": [
    "be.enrollment()"
   ]
  },
  {
   "cell_type": "code",
   "execution_count": 48,
   "id": "85dc1aed-3f76-4cc2-923e-521c0cba0e71",
   "metadata": {},
   "outputs": [
    {
     "name": "stdout",
     "output_type": "stream",
     "text": [
      "\u001b[93mShowing 4 subjects\u001b[0m\n",
      "  Subject::884 -- mark = 48 -- grade == F\n",
      "  Subject::512 -- mark = 25 -- grade == F\n",
      "  Subject::010 -- mark = 31 -- grade == F\n",
      "  Subject::716 -- mark = 88 -- grade == HD\n",
      "\u001b[96mStudent Course Menu (c/e/r/s/x):\u001b[0m\n"
     ]
    },
    {
     "name": "stdin",
     "output_type": "stream",
     "text": [
      " e\n"
     ]
    },
    {
     "data": {
      "text/plain": [
       "'e'"
      ]
     },
     "execution_count": 48,
     "metadata": {},
     "output_type": "execute_result"
    }
   ],
   "source": [
    "be.show()"
   ]
  },
  {
   "cell_type": "code",
   "execution_count": 235,
   "id": "f53b2d4d-b925-49f4-97b6-a834fda8f7b6",
   "metadata": {},
   "outputs": [],
   "source": [
    "email = 'alen.jones@university.com'"
   ]
  },
  {
   "cell_type": "code",
   "execution_count": 15,
   "id": "7d712e5b-420e-466b-821b-d789eef11c8e",
   "metadata": {
    "tags": []
   },
   "outputs": [
    {
     "name": "stdout",
     "output_type": "stream",
     "text": [
      "Checking if 'students.data' exists...\n",
      "File 'student-Copy1.data'exists.\n"
     ]
    }
   ],
   "source": [
    "be = Backend(email)"
   ]
  },
  {
   "cell_type": "code",
   "execution_count": 237,
   "id": "e87da762-e351-4028-bed2-66a6cce7b41b",
   "metadata": {},
   "outputs": [
    {
     "data": {
      "text/plain": [
       "2"
      ]
     },
     "execution_count": 237,
     "metadata": {},
     "output_type": "execute_result"
    }
   ],
   "source": [
    "be.get_count()"
   ]
  },
  {
   "cell_type": "code",
   "execution_count": 238,
   "id": "e66213f3-ca7f-46d3-a0f2-b4c4c2f24826",
   "metadata": {
    "tags": []
   },
   "outputs": [
    {
     "data": {
      "text/plain": [
       "{'students': {'jialing.huang@university.com': {'first_name': 'jialing',\n",
       "   'last_name': 'huang',\n",
       "   'email': 'jialing.huang@university.com',\n",
       "   'password': 'Helloworld123',\n",
       "   'student_id': '787244'},\n",
       "  'john.smith@university.com': {'first_name': 'john',\n",
       "   'last_name': 'smith',\n",
       "   'email': 'john.smith@university.com',\n",
       "   'password': 'Helloworld123',\n",
       "   'student_id': '227569'},\n",
       "  'alen.jones@university.com': {'first_name': 'alen',\n",
       "   'last_name': 'jones',\n",
       "   'email': 'alen.jones@university.com',\n",
       "   'password': 'Helloworld123',\n",
       "   'student_id': '713228'}},\n",
       " 'used_ids': [227569, 787244, 713228]}"
      ]
     },
     "execution_count": 238,
     "metadata": {},
     "output_type": "execute_result"
    }
   ],
   "source": [
    "db.read()"
   ]
  },
  {
   "cell_type": "code",
   "execution_count": 14,
   "id": "86dffb1e-b03e-47f1-a6db-fb8b227f84a4",
   "metadata": {
    "tags": []
   },
   "outputs": [
    {
     "ename": "AttributeError",
     "evalue": "'Backend' object has no attribute 'student_file'",
     "output_type": "error",
     "traceback": [
      "\u001b[1;31m---------------------------------------------------------------------------\u001b[0m",
      "\u001b[1;31mAttributeError\u001b[0m                            Traceback (most recent call last)",
      "Cell \u001b[1;32mIn[14], line 1\u001b[0m\n\u001b[1;32m----> 1\u001b[0m \u001b[43mbe\u001b[49m\u001b[38;5;241;43m.\u001b[39;49m\u001b[43mstudent_file\u001b[49m\n",
      "\u001b[1;31mAttributeError\u001b[0m: 'Backend' object has no attribute 'student_file'"
     ]
    }
   ],
   "source": [
    "be.student_file"
   ]
  },
  {
   "cell_type": "code",
   "execution_count": 5,
   "id": "b52d502e-2ac0-48a1-b9b2-50a9e974352e",
   "metadata": {},
   "outputs": [],
   "source": [
    "class StuCourseSys():\n",
    "\n",
    "    def __init__(self, email):\n",
    "\n",
    "        self.db = DataBase()\n",
    "        self.be = Backend(email)\n",
    "        self.contents = self.db.read()\n",
    "        self.user_input = self.be.standard_user_input()\n",
    "        self.correct_inputs = ['x', 'c', 'e', 'r', 's']\n",
    "\n",
    "    def main(self):\n",
    "\n",
    "        while self.user_input != 'x':\n",
    "            \n",
    "            if self.user_input == 'c': # Changing Subject\n",
    "                self.be.print_col(\"Updating Password\", \"yellow\")\n",
    "                self.be.update_password()\n",
    "                self.user_input = self.be.standard_user_input()\n",
    "                \n",
    "            elif self.user_input == 'e': # Enrollment \n",
    "                self.user_input = self.be.enrollment()\n",
    "                    \n",
    "            elif self.user_input == 'r':  # Removing Subject\n",
    "                self.be.removal()\n",
    "                self.user_input = self.be.standard_user_input()\n",
    "                    \n",
    "            elif self.user_input == 's': # Showing subjects\n",
    "                self.user_input = self.be.show()\n",
    "\n",
    "            elif self.user_input not in self.correct_inputs: # Error Handling\n",
    "                be.print_col(f\"Input {self.user_input} not a valid input. Try again...\", \"red\") \n",
    "                self.user_input = self.be.standard_user_input()"
   ]
  },
  {
   "cell_type": "code",
   "execution_count": 13,
   "id": "4c98a728-6410-4900-b2b2-8e8d96aa4e47",
   "metadata": {},
   "outputs": [
    {
     "name": "stdout",
     "output_type": "stream",
     "text": [
      "Checking if 'students.data' exists...\n",
      "File 'student-Copy1.data'exists.\n"
     ]
    },
    {
     "data": {
      "text/plain": [
       "4"
      ]
     },
     "execution_count": 13,
     "metadata": {},
     "output_type": "execute_result"
    }
   ],
   "source": [
    "be = Backend(email)\n",
    "be.get_count()"
   ]
  },
  {
   "cell_type": "code",
   "execution_count": 12,
   "id": "204ee644-a8b2-44d6-858e-9501a9522481",
   "metadata": {},
   "outputs": [
    {
     "name": "stdout",
     "output_type": "stream",
     "text": [
      "Checking if 'students.data' exists...\n",
      "File 'student-Copy1.data'exists.\n"
     ]
    },
    {
     "data": {
      "text/plain": [
       "{'students': {'jialing.huang@university.com': {'first_name': 'jialing',\n",
       "   'last_name': 'huang',\n",
       "   'email': 'jialing.huang@university.com',\n",
       "   'password': 'Helloworld123',\n",
       "   'student_id': '787244'},\n",
       "  'john.smith@university.com': {'first_name': 'john',\n",
       "   'last_name': 'smith',\n",
       "   'email': 'john.smith@university.com',\n",
       "   'password': 'Helloworld123',\n",
       "   'student_id': '227569'},\n",
       "  'alen.jones@university.com': {'first_name': 'alen',\n",
       "   'last_name': 'jones',\n",
       "   'email': 'alen.jones@university.com',\n",
       "   'password': 'Helloworld123',\n",
       "   'student_id': '713228',\n",
       "   'subjects': [{'subject': '884', 'mark': 48, 'grade': 'F'},\n",
       "    {'subject': '512', 'mark': 25, 'grade': 'F'},\n",
       "    {'subject': '010', 'mark': 31, 'grade': 'F'},\n",
       "    {'subject': '716', 'mark': 88, 'grade': 'HD'}]}},\n",
       " 'used_ids': [227569, 787244, 713228]}"
      ]
     },
     "execution_count": 12,
     "metadata": {},
     "output_type": "execute_result"
    }
   ],
   "source": [
    "db = DataBase()\n",
    "db.read()"
   ]
  },
  {
   "cell_type": "code",
   "execution_count": 8,
   "id": "605456fe-9c30-4200-a271-4fa5880c875f",
   "metadata": {},
   "outputs": [
    {
     "name": "stdout",
     "output_type": "stream",
     "text": [
      "Checking if 'students.data' exists...\n",
      "File 'student-Copy1.data'exists.\n",
      "Checking if 'students.data' exists...\n",
      "File 'student-Copy1.data'exists.\n",
      "\u001b[96mStudent Course Menu (c/e/r/s/x):\u001b[0m\n"
     ]
    },
    {
     "name": "stdin",
     "output_type": "stream",
     "text": [
      " e\n"
     ]
    },
    {
     "name": "stdout",
     "output_type": "stream",
     "text": [
      "\u001b[91mStudents are allowed to enrol in 4 subjects only\u001b[0m\n",
      "\u001b[96mStudent Course Menu (c/e/r/s/x):\u001b[0m\n"
     ]
    },
    {
     "name": "stdin",
     "output_type": "stream",
     "text": [
      " x\n"
     ]
    }
   ],
   "source": [
    "if __name__ == \"__main__\":\n",
    "    system = StuCourseSys(email)\n",
    "    system.main()"
   ]
  },
  {
   "cell_type": "code",
   "execution_count": 7,
   "id": "db85ab79-dca5-46ca-9693-d5149ce402f3",
   "metadata": {},
   "outputs": [],
   "source": [
    "email = 'alen.jones@university.com'"
   ]
  },
  {
   "cell_type": "code",
   "execution_count": 154,
   "id": "3f16ba47-8fcd-4e37-9af0-759c3623202d",
   "metadata": {},
   "outputs": [
    {
     "data": {
      "text/plain": [
       "{'first_name': 'alen',\n",
       " 'last_name': 'jones',\n",
       " 'email': 'alen.jones@university.com',\n",
       " 'password': 'Helloworld123',\n",
       " 'student_id': '713228'}"
      ]
     },
     "execution_count": 154,
     "metadata": {},
     "output_type": "execute_result"
    }
   ],
   "source": [
    "students['students']['alen.jones@university.com']"
   ]
  },
  {
   "cell_type": "code",
   "execution_count": null,
   "id": "19d6d8fb-fc08-4f8a-ac86-b43c00ea9902",
   "metadata": {},
   "outputs": [],
   "source": []
  }
 ],
 "metadata": {
  "kernelspec": {
   "display_name": "Python 3 (ipykernel)",
   "language": "python",
   "name": "python3"
  },
  "language_info": {
   "codemirror_mode": {
    "name": "ipython",
    "version": 3
   },
   "file_extension": ".py",
   "mimetype": "text/x-python",
   "name": "python",
   "nbconvert_exporter": "python",
   "pygments_lexer": "ipython3",
   "version": "3.9.12"
  }
 },
 "nbformat": 4,
 "nbformat_minor": 5
}
